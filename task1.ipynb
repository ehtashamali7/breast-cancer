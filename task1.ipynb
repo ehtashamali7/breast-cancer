{
  "cells": [
    {
      "cell_type": "code",
      "execution_count": null,
      "metadata": {
        "id": "LRM-Xdkn4SZS"
      },
      "outputs": [],
      "source": [
        "import pandas as pd"
      ]
    },
    {
      "cell_type": "code",
      "execution_count": null,
      "metadata": {
        "id": "_EJoPqym4UzO"
      },
      "outputs": [],
      "source": [
        "data =  pd.read_csv('breast-cancer.data',names = ['class','age','menopause','tumor-size','inv-nodes','node-caps','deg-malig','breas','breast-quad','irradiat'])"
      ]
    },
    {
      "cell_type": "code",
      "execution_count": null,
      "metadata": {
        "colab": {
          "base_uri": "https://localhost:8080/",
          "height": 143
        },
        "id": "G-eudm9c4Yvw",
        "outputId": "c6537a58-fb5c-47a7-bb0a-88c11bf68432"
      },
      "outputs": [
        {
          "output_type": "execute_result",
          "data": {
            "text/plain": [
              "                  class    age menopause tumor-size inv-nodes node-caps  \\\n",
              "0  no-recurrence-events  30-39   premeno      30-34       0-2        no   \n",
              "1  no-recurrence-events  40-49   premeno      20-24       0-2        no   \n",
              "2  no-recurrence-events  40-49   premeno      20-24       0-2        no   \n",
              "\n",
              "   deg-malig  breas breast-quad irradiat  \n",
              "0          3   left    left_low       no  \n",
              "1          2  right    right_up       no  \n",
              "2          2   left    left_low       no  "
            ],
            "text/html": [
              "\n",
              "  <div id=\"df-e999eeb1-5f56-4562-9ef2-bdc1769193e5\">\n",
              "    <div class=\"colab-df-container\">\n",
              "      <div>\n",
              "<style scoped>\n",
              "    .dataframe tbody tr th:only-of-type {\n",
              "        vertical-align: middle;\n",
              "    }\n",
              "\n",
              "    .dataframe tbody tr th {\n",
              "        vertical-align: top;\n",
              "    }\n",
              "\n",
              "    .dataframe thead th {\n",
              "        text-align: right;\n",
              "    }\n",
              "</style>\n",
              "<table border=\"1\" class=\"dataframe\">\n",
              "  <thead>\n",
              "    <tr style=\"text-align: right;\">\n",
              "      <th></th>\n",
              "      <th>class</th>\n",
              "      <th>age</th>\n",
              "      <th>menopause</th>\n",
              "      <th>tumor-size</th>\n",
              "      <th>inv-nodes</th>\n",
              "      <th>node-caps</th>\n",
              "      <th>deg-malig</th>\n",
              "      <th>breas</th>\n",
              "      <th>breast-quad</th>\n",
              "      <th>irradiat</th>\n",
              "    </tr>\n",
              "  </thead>\n",
              "  <tbody>\n",
              "    <tr>\n",
              "      <th>0</th>\n",
              "      <td>no-recurrence-events</td>\n",
              "      <td>30-39</td>\n",
              "      <td>premeno</td>\n",
              "      <td>30-34</td>\n",
              "      <td>0-2</td>\n",
              "      <td>no</td>\n",
              "      <td>3</td>\n",
              "      <td>left</td>\n",
              "      <td>left_low</td>\n",
              "      <td>no</td>\n",
              "    </tr>\n",
              "    <tr>\n",
              "      <th>1</th>\n",
              "      <td>no-recurrence-events</td>\n",
              "      <td>40-49</td>\n",
              "      <td>premeno</td>\n",
              "      <td>20-24</td>\n",
              "      <td>0-2</td>\n",
              "      <td>no</td>\n",
              "      <td>2</td>\n",
              "      <td>right</td>\n",
              "      <td>right_up</td>\n",
              "      <td>no</td>\n",
              "    </tr>\n",
              "    <tr>\n",
              "      <th>2</th>\n",
              "      <td>no-recurrence-events</td>\n",
              "      <td>40-49</td>\n",
              "      <td>premeno</td>\n",
              "      <td>20-24</td>\n",
              "      <td>0-2</td>\n",
              "      <td>no</td>\n",
              "      <td>2</td>\n",
              "      <td>left</td>\n",
              "      <td>left_low</td>\n",
              "      <td>no</td>\n",
              "    </tr>\n",
              "  </tbody>\n",
              "</table>\n",
              "</div>\n",
              "      <button class=\"colab-df-convert\" onclick=\"convertToInteractive('df-e999eeb1-5f56-4562-9ef2-bdc1769193e5')\"\n",
              "              title=\"Convert this dataframe to an interactive table.\"\n",
              "              style=\"display:none;\">\n",
              "        \n",
              "  <svg xmlns=\"http://www.w3.org/2000/svg\" height=\"24px\"viewBox=\"0 0 24 24\"\n",
              "       width=\"24px\">\n",
              "    <path d=\"M0 0h24v24H0V0z\" fill=\"none\"/>\n",
              "    <path d=\"M18.56 5.44l.94 2.06.94-2.06 2.06-.94-2.06-.94-.94-2.06-.94 2.06-2.06.94zm-11 1L8.5 8.5l.94-2.06 2.06-.94-2.06-.94L8.5 2.5l-.94 2.06-2.06.94zm10 10l.94 2.06.94-2.06 2.06-.94-2.06-.94-.94-2.06-.94 2.06-2.06.94z\"/><path d=\"M17.41 7.96l-1.37-1.37c-.4-.4-.92-.59-1.43-.59-.52 0-1.04.2-1.43.59L10.3 9.45l-7.72 7.72c-.78.78-.78 2.05 0 2.83L4 21.41c.39.39.9.59 1.41.59.51 0 1.02-.2 1.41-.59l7.78-7.78 2.81-2.81c.8-.78.8-2.07 0-2.86zM5.41 20L4 18.59l7.72-7.72 1.47 1.35L5.41 20z\"/>\n",
              "  </svg>\n",
              "      </button>\n",
              "      \n",
              "  <style>\n",
              "    .colab-df-container {\n",
              "      display:flex;\n",
              "      flex-wrap:wrap;\n",
              "      gap: 12px;\n",
              "    }\n",
              "\n",
              "    .colab-df-convert {\n",
              "      background-color: #E8F0FE;\n",
              "      border: none;\n",
              "      border-radius: 50%;\n",
              "      cursor: pointer;\n",
              "      display: none;\n",
              "      fill: #1967D2;\n",
              "      height: 32px;\n",
              "      padding: 0 0 0 0;\n",
              "      width: 32px;\n",
              "    }\n",
              "\n",
              "    .colab-df-convert:hover {\n",
              "      background-color: #E2EBFA;\n",
              "      box-shadow: 0px 1px 2px rgba(60, 64, 67, 0.3), 0px 1px 3px 1px rgba(60, 64, 67, 0.15);\n",
              "      fill: #174EA6;\n",
              "    }\n",
              "\n",
              "    [theme=dark] .colab-df-convert {\n",
              "      background-color: #3B4455;\n",
              "      fill: #D2E3FC;\n",
              "    }\n",
              "\n",
              "    [theme=dark] .colab-df-convert:hover {\n",
              "      background-color: #434B5C;\n",
              "      box-shadow: 0px 1px 3px 1px rgba(0, 0, 0, 0.15);\n",
              "      filter: drop-shadow(0px 1px 2px rgba(0, 0, 0, 0.3));\n",
              "      fill: #FFFFFF;\n",
              "    }\n",
              "  </style>\n",
              "\n",
              "      <script>\n",
              "        const buttonEl =\n",
              "          document.querySelector('#df-e999eeb1-5f56-4562-9ef2-bdc1769193e5 button.colab-df-convert');\n",
              "        buttonEl.style.display =\n",
              "          google.colab.kernel.accessAllowed ? 'block' : 'none';\n",
              "\n",
              "        async function convertToInteractive(key) {\n",
              "          const element = document.querySelector('#df-e999eeb1-5f56-4562-9ef2-bdc1769193e5');\n",
              "          const dataTable =\n",
              "            await google.colab.kernel.invokeFunction('convertToInteractive',\n",
              "                                                     [key], {});\n",
              "          if (!dataTable) return;\n",
              "\n",
              "          const docLinkHtml = 'Like what you see? Visit the ' +\n",
              "            '<a target=\"_blank\" href=https://colab.research.google.com/notebooks/data_table.ipynb>data table notebook</a>'\n",
              "            + ' to learn more about interactive tables.';\n",
              "          element.innerHTML = '';\n",
              "          dataTable['output_type'] = 'display_data';\n",
              "          await google.colab.output.renderOutput(dataTable, element);\n",
              "          const docLink = document.createElement('div');\n",
              "          docLink.innerHTML = docLinkHtml;\n",
              "          element.appendChild(docLink);\n",
              "        }\n",
              "      </script>\n",
              "    </div>\n",
              "  </div>\n",
              "  "
            ]
          },
          "metadata": {},
          "execution_count": 3
        }
      ],
      "source": [
        "data.head(3)"
      ]
    },
    {
      "cell_type": "code",
      "execution_count": null,
      "metadata": {
        "id": "OuQhyg59BjZa"
      },
      "outputs": [],
      "source": [
        "data.to_csv(\"Book1.csv\",index = False)"
      ]
    },
    {
      "cell_type": "code",
      "source": [
        "data1= pd.read_csv('Book1.csv')"
      ],
      "metadata": {
        "id": "bwZb04iDa3e_"
      },
      "execution_count": null,
      "outputs": []
    },
    {
      "cell_type": "code",
      "source": [
        "data1.head(3)"
      ],
      "metadata": {
        "colab": {
          "base_uri": "https://localhost:8080/",
          "height": 143
        },
        "id": "haBUErc_bC2Y",
        "outputId": "e592f91d-5f77-4e66-9100-89f2510e4cf1"
      },
      "execution_count": null,
      "outputs": [
        {
          "output_type": "execute_result",
          "data": {
            "text/plain": [
              "                  class    age menopause tumor-size inv-nodes node-caps  \\\n",
              "0  no-recurrence-events  30-39   premeno      30-34       0-2        no   \n",
              "1  no-recurrence-events  40-49   premeno      20-24       0-2        no   \n",
              "2  no-recurrence-events  40-49   premeno      20-24       0-2        no   \n",
              "\n",
              "   deg-malig  breas breast-quad irradiat  \n",
              "0          3   left    left_low       no  \n",
              "1          2  right    right_up       no  \n",
              "2          2   left    left_low       no  "
            ],
            "text/html": [
              "\n",
              "  <div id=\"df-0538075d-f5db-4071-98fb-8554753b58fd\">\n",
              "    <div class=\"colab-df-container\">\n",
              "      <div>\n",
              "<style scoped>\n",
              "    .dataframe tbody tr th:only-of-type {\n",
              "        vertical-align: middle;\n",
              "    }\n",
              "\n",
              "    .dataframe tbody tr th {\n",
              "        vertical-align: top;\n",
              "    }\n",
              "\n",
              "    .dataframe thead th {\n",
              "        text-align: right;\n",
              "    }\n",
              "</style>\n",
              "<table border=\"1\" class=\"dataframe\">\n",
              "  <thead>\n",
              "    <tr style=\"text-align: right;\">\n",
              "      <th></th>\n",
              "      <th>class</th>\n",
              "      <th>age</th>\n",
              "      <th>menopause</th>\n",
              "      <th>tumor-size</th>\n",
              "      <th>inv-nodes</th>\n",
              "      <th>node-caps</th>\n",
              "      <th>deg-malig</th>\n",
              "      <th>breas</th>\n",
              "      <th>breast-quad</th>\n",
              "      <th>irradiat</th>\n",
              "    </tr>\n",
              "  </thead>\n",
              "  <tbody>\n",
              "    <tr>\n",
              "      <th>0</th>\n",
              "      <td>no-recurrence-events</td>\n",
              "      <td>30-39</td>\n",
              "      <td>premeno</td>\n",
              "      <td>30-34</td>\n",
              "      <td>0-2</td>\n",
              "      <td>no</td>\n",
              "      <td>3</td>\n",
              "      <td>left</td>\n",
              "      <td>left_low</td>\n",
              "      <td>no</td>\n",
              "    </tr>\n",
              "    <tr>\n",
              "      <th>1</th>\n",
              "      <td>no-recurrence-events</td>\n",
              "      <td>40-49</td>\n",
              "      <td>premeno</td>\n",
              "      <td>20-24</td>\n",
              "      <td>0-2</td>\n",
              "      <td>no</td>\n",
              "      <td>2</td>\n",
              "      <td>right</td>\n",
              "      <td>right_up</td>\n",
              "      <td>no</td>\n",
              "    </tr>\n",
              "    <tr>\n",
              "      <th>2</th>\n",
              "      <td>no-recurrence-events</td>\n",
              "      <td>40-49</td>\n",
              "      <td>premeno</td>\n",
              "      <td>20-24</td>\n",
              "      <td>0-2</td>\n",
              "      <td>no</td>\n",
              "      <td>2</td>\n",
              "      <td>left</td>\n",
              "      <td>left_low</td>\n",
              "      <td>no</td>\n",
              "    </tr>\n",
              "  </tbody>\n",
              "</table>\n",
              "</div>\n",
              "      <button class=\"colab-df-convert\" onclick=\"convertToInteractive('df-0538075d-f5db-4071-98fb-8554753b58fd')\"\n",
              "              title=\"Convert this dataframe to an interactive table.\"\n",
              "              style=\"display:none;\">\n",
              "        \n",
              "  <svg xmlns=\"http://www.w3.org/2000/svg\" height=\"24px\"viewBox=\"0 0 24 24\"\n",
              "       width=\"24px\">\n",
              "    <path d=\"M0 0h24v24H0V0z\" fill=\"none\"/>\n",
              "    <path d=\"M18.56 5.44l.94 2.06.94-2.06 2.06-.94-2.06-.94-.94-2.06-.94 2.06-2.06.94zm-11 1L8.5 8.5l.94-2.06 2.06-.94-2.06-.94L8.5 2.5l-.94 2.06-2.06.94zm10 10l.94 2.06.94-2.06 2.06-.94-2.06-.94-.94-2.06-.94 2.06-2.06.94z\"/><path d=\"M17.41 7.96l-1.37-1.37c-.4-.4-.92-.59-1.43-.59-.52 0-1.04.2-1.43.59L10.3 9.45l-7.72 7.72c-.78.78-.78 2.05 0 2.83L4 21.41c.39.39.9.59 1.41.59.51 0 1.02-.2 1.41-.59l7.78-7.78 2.81-2.81c.8-.78.8-2.07 0-2.86zM5.41 20L4 18.59l7.72-7.72 1.47 1.35L5.41 20z\"/>\n",
              "  </svg>\n",
              "      </button>\n",
              "      \n",
              "  <style>\n",
              "    .colab-df-container {\n",
              "      display:flex;\n",
              "      flex-wrap:wrap;\n",
              "      gap: 12px;\n",
              "    }\n",
              "\n",
              "    .colab-df-convert {\n",
              "      background-color: #E8F0FE;\n",
              "      border: none;\n",
              "      border-radius: 50%;\n",
              "      cursor: pointer;\n",
              "      display: none;\n",
              "      fill: #1967D2;\n",
              "      height: 32px;\n",
              "      padding: 0 0 0 0;\n",
              "      width: 32px;\n",
              "    }\n",
              "\n",
              "    .colab-df-convert:hover {\n",
              "      background-color: #E2EBFA;\n",
              "      box-shadow: 0px 1px 2px rgba(60, 64, 67, 0.3), 0px 1px 3px 1px rgba(60, 64, 67, 0.15);\n",
              "      fill: #174EA6;\n",
              "    }\n",
              "\n",
              "    [theme=dark] .colab-df-convert {\n",
              "      background-color: #3B4455;\n",
              "      fill: #D2E3FC;\n",
              "    }\n",
              "\n",
              "    [theme=dark] .colab-df-convert:hover {\n",
              "      background-color: #434B5C;\n",
              "      box-shadow: 0px 1px 3px 1px rgba(0, 0, 0, 0.15);\n",
              "      filter: drop-shadow(0px 1px 2px rgba(0, 0, 0, 0.3));\n",
              "      fill: #FFFFFF;\n",
              "    }\n",
              "  </style>\n",
              "\n",
              "      <script>\n",
              "        const buttonEl =\n",
              "          document.querySelector('#df-0538075d-f5db-4071-98fb-8554753b58fd button.colab-df-convert');\n",
              "        buttonEl.style.display =\n",
              "          google.colab.kernel.accessAllowed ? 'block' : 'none';\n",
              "\n",
              "        async function convertToInteractive(key) {\n",
              "          const element = document.querySelector('#df-0538075d-f5db-4071-98fb-8554753b58fd');\n",
              "          const dataTable =\n",
              "            await google.colab.kernel.invokeFunction('convertToInteractive',\n",
              "                                                     [key], {});\n",
              "          if (!dataTable) return;\n",
              "\n",
              "          const docLinkHtml = 'Like what you see? Visit the ' +\n",
              "            '<a target=\"_blank\" href=https://colab.research.google.com/notebooks/data_table.ipynb>data table notebook</a>'\n",
              "            + ' to learn more about interactive tables.';\n",
              "          element.innerHTML = '';\n",
              "          dataTable['output_type'] = 'display_data';\n",
              "          await google.colab.output.renderOutput(dataTable, element);\n",
              "          const docLink = document.createElement('div');\n",
              "          docLink.innerHTML = docLinkHtml;\n",
              "          element.appendChild(docLink);\n",
              "        }\n",
              "      </script>\n",
              "    </div>\n",
              "  </div>\n",
              "  "
            ]
          },
          "metadata": {},
          "execution_count": 6
        }
      ]
    },
    {
      "cell_type": "code",
      "source": [
        "data1.shape"
      ],
      "metadata": {
        "colab": {
          "base_uri": "https://localhost:8080/"
        },
        "id": "LWjPzv4gfvVx",
        "outputId": "f3243dc5-6770-4c84-cf39-e2731c9b9120"
      },
      "execution_count": null,
      "outputs": [
        {
          "output_type": "execute_result",
          "data": {
            "text/plain": [
              "(286, 10)"
            ]
          },
          "metadata": {},
          "execution_count": 7
        }
      ]
    },
    {
      "cell_type": "code",
      "source": [
        "data1.dtypes"
      ],
      "metadata": {
        "colab": {
          "base_uri": "https://localhost:8080/"
        },
        "id": "NXIT0t8EgN51",
        "outputId": "d95b8bb4-2c2b-44f8-9d48-e15235d9f2b9"
      },
      "execution_count": null,
      "outputs": [
        {
          "output_type": "execute_result",
          "data": {
            "text/plain": [
              "class          object\n",
              "age            object\n",
              "menopause      object\n",
              "tumor-size     object\n",
              "inv-nodes      object\n",
              "node-caps      object\n",
              "deg-malig       int64\n",
              "breas          object\n",
              "breast-quad    object\n",
              "irradiat       object\n",
              "dtype: object"
            ]
          },
          "metadata": {},
          "execution_count": 8
        }
      ]
    },
    {
      "cell_type": "code",
      "execution_count": null,
      "metadata": {
        "colab": {
          "base_uri": "https://localhost:8080/"
        },
        "id": "1vRaiBfJ4anP",
        "outputId": "00b31d4f-c0af-4d97-e236-e1af63b6e3fa"
      },
      "outputs": [
        {
          "output_type": "execute_result",
          "data": {
            "text/plain": [
              "class          0\n",
              "age            0\n",
              "menopause      0\n",
              "tumor-size     0\n",
              "inv-nodes      0\n",
              "node-caps      0\n",
              "deg-malig      0\n",
              "breas          0\n",
              "breast-quad    0\n",
              "irradiat       0\n",
              "dtype: int64"
            ]
          },
          "metadata": {},
          "execution_count": 9
        }
      ],
      "source": [
        "data1.isnull().sum()"
      ]
    },
    {
      "cell_type": "code",
      "source": [
        "data1['class'].value_counts()"
      ],
      "metadata": {
        "colab": {
          "base_uri": "https://localhost:8080/"
        },
        "id": "J4w3PjZsa2h6",
        "outputId": "f86f7722-7d19-4507-8d7e-d1032058a7a5"
      },
      "execution_count": null,
      "outputs": [
        {
          "output_type": "execute_result",
          "data": {
            "text/plain": [
              "no-recurrence-events    201\n",
              "recurrence-events        85\n",
              "Name: class, dtype: int64"
            ]
          },
          "metadata": {},
          "execution_count": 10
        }
      ]
    },
    {
      "cell_type": "code",
      "execution_count": null,
      "metadata": {
        "colab": {
          "base_uri": "https://localhost:8080/",
          "height": 143
        },
        "id": "M4DSmcRsCDYd",
        "outputId": "e87787d8-6824-4768-c291-7d2e9c92458c"
      },
      "outputs": [
        {
          "output_type": "execute_result",
          "data": {
            "text/plain": [
              "                  class    age menopause tumor-size inv-nodes node-caps  \\\n",
              "0  no-recurrence-events  30-39   premeno      30-34       0-2        no   \n",
              "1  no-recurrence-events  40-49   premeno      20-24       0-2        no   \n",
              "2  no-recurrence-events  40-49   premeno      20-24       0-2        no   \n",
              "\n",
              "   deg-malig  breas breast-quad irradiat  \n",
              "0          3   left    left_low       no  \n",
              "1          2  right    right_up       no  \n",
              "2          2   left    left_low       no  "
            ],
            "text/html": [
              "\n",
              "  <div id=\"df-da4b6f28-ddc6-4211-8983-db539b2cb408\">\n",
              "    <div class=\"colab-df-container\">\n",
              "      <div>\n",
              "<style scoped>\n",
              "    .dataframe tbody tr th:only-of-type {\n",
              "        vertical-align: middle;\n",
              "    }\n",
              "\n",
              "    .dataframe tbody tr th {\n",
              "        vertical-align: top;\n",
              "    }\n",
              "\n",
              "    .dataframe thead th {\n",
              "        text-align: right;\n",
              "    }\n",
              "</style>\n",
              "<table border=\"1\" class=\"dataframe\">\n",
              "  <thead>\n",
              "    <tr style=\"text-align: right;\">\n",
              "      <th></th>\n",
              "      <th>class</th>\n",
              "      <th>age</th>\n",
              "      <th>menopause</th>\n",
              "      <th>tumor-size</th>\n",
              "      <th>inv-nodes</th>\n",
              "      <th>node-caps</th>\n",
              "      <th>deg-malig</th>\n",
              "      <th>breas</th>\n",
              "      <th>breast-quad</th>\n",
              "      <th>irradiat</th>\n",
              "    </tr>\n",
              "  </thead>\n",
              "  <tbody>\n",
              "    <tr>\n",
              "      <th>0</th>\n",
              "      <td>no-recurrence-events</td>\n",
              "      <td>30-39</td>\n",
              "      <td>premeno</td>\n",
              "      <td>30-34</td>\n",
              "      <td>0-2</td>\n",
              "      <td>no</td>\n",
              "      <td>3</td>\n",
              "      <td>left</td>\n",
              "      <td>left_low</td>\n",
              "      <td>no</td>\n",
              "    </tr>\n",
              "    <tr>\n",
              "      <th>1</th>\n",
              "      <td>no-recurrence-events</td>\n",
              "      <td>40-49</td>\n",
              "      <td>premeno</td>\n",
              "      <td>20-24</td>\n",
              "      <td>0-2</td>\n",
              "      <td>no</td>\n",
              "      <td>2</td>\n",
              "      <td>right</td>\n",
              "      <td>right_up</td>\n",
              "      <td>no</td>\n",
              "    </tr>\n",
              "    <tr>\n",
              "      <th>2</th>\n",
              "      <td>no-recurrence-events</td>\n",
              "      <td>40-49</td>\n",
              "      <td>premeno</td>\n",
              "      <td>20-24</td>\n",
              "      <td>0-2</td>\n",
              "      <td>no</td>\n",
              "      <td>2</td>\n",
              "      <td>left</td>\n",
              "      <td>left_low</td>\n",
              "      <td>no</td>\n",
              "    </tr>\n",
              "  </tbody>\n",
              "</table>\n",
              "</div>\n",
              "      <button class=\"colab-df-convert\" onclick=\"convertToInteractive('df-da4b6f28-ddc6-4211-8983-db539b2cb408')\"\n",
              "              title=\"Convert this dataframe to an interactive table.\"\n",
              "              style=\"display:none;\">\n",
              "        \n",
              "  <svg xmlns=\"http://www.w3.org/2000/svg\" height=\"24px\"viewBox=\"0 0 24 24\"\n",
              "       width=\"24px\">\n",
              "    <path d=\"M0 0h24v24H0V0z\" fill=\"none\"/>\n",
              "    <path d=\"M18.56 5.44l.94 2.06.94-2.06 2.06-.94-2.06-.94-.94-2.06-.94 2.06-2.06.94zm-11 1L8.5 8.5l.94-2.06 2.06-.94-2.06-.94L8.5 2.5l-.94 2.06-2.06.94zm10 10l.94 2.06.94-2.06 2.06-.94-2.06-.94-.94-2.06-.94 2.06-2.06.94z\"/><path d=\"M17.41 7.96l-1.37-1.37c-.4-.4-.92-.59-1.43-.59-.52 0-1.04.2-1.43.59L10.3 9.45l-7.72 7.72c-.78.78-.78 2.05 0 2.83L4 21.41c.39.39.9.59 1.41.59.51 0 1.02-.2 1.41-.59l7.78-7.78 2.81-2.81c.8-.78.8-2.07 0-2.86zM5.41 20L4 18.59l7.72-7.72 1.47 1.35L5.41 20z\"/>\n",
              "  </svg>\n",
              "      </button>\n",
              "      \n",
              "  <style>\n",
              "    .colab-df-container {\n",
              "      display:flex;\n",
              "      flex-wrap:wrap;\n",
              "      gap: 12px;\n",
              "    }\n",
              "\n",
              "    .colab-df-convert {\n",
              "      background-color: #E8F0FE;\n",
              "      border: none;\n",
              "      border-radius: 50%;\n",
              "      cursor: pointer;\n",
              "      display: none;\n",
              "      fill: #1967D2;\n",
              "      height: 32px;\n",
              "      padding: 0 0 0 0;\n",
              "      width: 32px;\n",
              "    }\n",
              "\n",
              "    .colab-df-convert:hover {\n",
              "      background-color: #E2EBFA;\n",
              "      box-shadow: 0px 1px 2px rgba(60, 64, 67, 0.3), 0px 1px 3px 1px rgba(60, 64, 67, 0.15);\n",
              "      fill: #174EA6;\n",
              "    }\n",
              "\n",
              "    [theme=dark] .colab-df-convert {\n",
              "      background-color: #3B4455;\n",
              "      fill: #D2E3FC;\n",
              "    }\n",
              "\n",
              "    [theme=dark] .colab-df-convert:hover {\n",
              "      background-color: #434B5C;\n",
              "      box-shadow: 0px 1px 3px 1px rgba(0, 0, 0, 0.15);\n",
              "      filter: drop-shadow(0px 1px 2px rgba(0, 0, 0, 0.3));\n",
              "      fill: #FFFFFF;\n",
              "    }\n",
              "  </style>\n",
              "\n",
              "      <script>\n",
              "        const buttonEl =\n",
              "          document.querySelector('#df-da4b6f28-ddc6-4211-8983-db539b2cb408 button.colab-df-convert');\n",
              "        buttonEl.style.display =\n",
              "          google.colab.kernel.accessAllowed ? 'block' : 'none';\n",
              "\n",
              "        async function convertToInteractive(key) {\n",
              "          const element = document.querySelector('#df-da4b6f28-ddc6-4211-8983-db539b2cb408');\n",
              "          const dataTable =\n",
              "            await google.colab.kernel.invokeFunction('convertToInteractive',\n",
              "                                                     [key], {});\n",
              "          if (!dataTable) return;\n",
              "\n",
              "          const docLinkHtml = 'Like what you see? Visit the ' +\n",
              "            '<a target=\"_blank\" href=https://colab.research.google.com/notebooks/data_table.ipynb>data table notebook</a>'\n",
              "            + ' to learn more about interactive tables.';\n",
              "          element.innerHTML = '';\n",
              "          dataTable['output_type'] = 'display_data';\n",
              "          await google.colab.output.renderOutput(dataTable, element);\n",
              "          const docLink = document.createElement('div');\n",
              "          docLink.innerHTML = docLinkHtml;\n",
              "          element.appendChild(docLink);\n",
              "        }\n",
              "      </script>\n",
              "    </div>\n",
              "  </div>\n",
              "  "
            ]
          },
          "metadata": {},
          "execution_count": 11
        }
      ],
      "source": [
        "data1.head(3)"
      ]
    },
    {
      "cell_type": "code",
      "execution_count": null,
      "metadata": {
        "id": "wtesorwj5rxN"
      },
      "outputs": [],
      "source": [
        "import seaborn as sns "
      ]
    },
    {
      "cell_type": "code",
      "execution_count": null,
      "metadata": {
        "colab": {
          "base_uri": "https://localhost:8080/"
        },
        "id": "2kgpVFl5Ci1e",
        "outputId": "96ac8bc5-16b5-446e-c09a-ef2dee50fcd3"
      },
      "outputs": [
        {
          "output_type": "execute_result",
          "data": {
            "text/plain": [
              "3"
            ]
          },
          "metadata": {},
          "execution_count": 13
        }
      ],
      "source": [
        "data1['menopause'].nunique()"
      ]
    },
    {
      "cell_type": "code",
      "execution_count": null,
      "metadata": {
        "colab": {
          "base_uri": "https://localhost:8080/",
          "height": 285
        },
        "id": "7cc6VH7UC6Lk",
        "outputId": "5322fd83-ce8b-48a4-c6fb-ef0649c7c76f"
      },
      "outputs": [
        {
          "output_type": "execute_result",
          "data": {
            "text/plain": [
              "<matplotlib.axes._subplots.AxesSubplot at 0x7f99924e0880>"
            ]
          },
          "metadata": {},
          "execution_count": 14
        },
        {
          "output_type": "display_data",
          "data": {
            "text/plain": [
              "<Figure size 432x288 with 1 Axes>"
            ],
            "image/png": "[encoded data removed]"
          },
          "metadata": {
            "needs_background": "light"
          }
        }
      ],
      "source": [
        "data1['age'].hist()"
      ]
    },
    {
      "cell_type": "code",
      "source": [
        "data1 = data1.loc[data1['age'] != '70-79']\n",
        "data1 = data1.loc[data1['age'] != '20-29']\n"
      ],
      "metadata": {
        "id": "sbUA6YcWqY77"
      },
      "execution_count": null,
      "outputs": []
    },
    {
      "cell_type": "code",
      "source": [
        "data1['age'].hist()"
      ],
      "metadata": {
        "colab": {
          "base_uri": "https://localhost:8080/",
          "height": 285
        },
        "id": "Q0XwcDWPqXi0",
        "outputId": "9eb39df1-b5aa-4506-f2dd-3f9eb64b20af"
      },
      "execution_count": null,
      "outputs": [
        {
          "output_type": "execute_result",
          "data": {
            "text/plain": [
              "<matplotlib.axes._subplots.AxesSubplot at 0x7f9999d2a700>"
            ]
          },
          "metadata": {},
          "execution_count": 16
        },
        {
          "output_type": "display_data",
          "data": {
            "text/plain": [
              "<Figure size 432x288 with 1 Axes>"
            ],
            "image/png": "[encoded data removed]"
          },
          "metadata": {
            "needs_background": "light"
          }
        }
      ]
    },
    {
      "cell_type": "code",
      "source": [
        "data1['age'].value_counts()"
      ],
      "metadata": {
        "colab": {
          "base_uri": "https://localhost:8080/"
        },
        "id": "51nO2a4RhEij",
        "outputId": "51f1a90d-0009-4085-fcd4-8482c8a0137e"
      },
      "execution_count": null,
      "outputs": [
        {
          "output_type": "execute_result",
          "data": {
            "text/plain": [
              "50-59    96\n",
              "40-49    90\n",
              "60-69    57\n",
              "30-39    36\n",
              "Name: age, dtype: int64"
            ]
          },
          "metadata": {},
          "execution_count": 17
        }
      ]
    },
    {
      "cell_type": "code",
      "source": [
        "data1.info()"
      ],
      "metadata": {
        "colab": {
          "base_uri": "https://localhost:8080/"
        },
        "id": "7rnzpkibfkzE",
        "outputId": "b3566dd8-dff0-4454-cb23-b150f0d14c48"
      },
      "execution_count": null,
      "outputs": [
        {
          "output_type": "stream",
          "name": "stdout",
          "text": [
            "<class 'pandas.core.frame.DataFrame'>\n",
            "Int64Index: 279 entries, 0 to 285\n",
            "Data columns (total 10 columns):\n",
            " #   Column       Non-Null Count  Dtype \n",
            "---  ------       --------------  ----- \n",
            " 0   class        279 non-null    object\n",
            " 1   age          279 non-null    object\n",
            " 2   menopause    279 non-null    object\n",
            " 3   tumor-size   279 non-null    object\n",
            " 4   inv-nodes    279 non-null    object\n",
            " 5   node-caps    279 non-null    object\n",
            " 6   deg-malig    279 non-null    int64 \n",
            " 7   breas        279 non-null    object\n",
            " 8   breast-quad  279 non-null    object\n",
            " 9   irradiat     279 non-null    object\n",
            "dtypes: int64(1), object(9)\n",
            "memory usage: 24.0+ KB\n"
          ]
        }
      ]
    },
    {
      "cell_type": "code",
      "source": [
        "data1.isnull().sum()"
      ],
      "metadata": {
        "colab": {
          "base_uri": "https://localhost:8080/"
        },
        "id": "uuuCYbyEv7aO",
        "outputId": "78e13c62-bc6e-4182-cd36-3d93f2f78563"
      },
      "execution_count": null,
      "outputs": [
        {
          "output_type": "execute_result",
          "data": {
            "text/plain": [
              "class          0\n",
              "age            0\n",
              "menopause      0\n",
              "tumor-size     0\n",
              "inv-nodes      0\n",
              "node-caps      0\n",
              "deg-malig      0\n",
              "breas          0\n",
              "breast-quad    0\n",
              "irradiat       0\n",
              "dtype: int64"
            ]
          },
          "metadata": {},
          "execution_count": 19
        }
      ]
    },
    {
      "cell_type": "code",
      "execution_count": null,
      "metadata": {
        "id": "NXPnz6UrDu_-"
      },
      "outputs": [],
      "source": [
        "from sklearn.preprocessing import LabelEncoder"
      ]
    },
    {
      "cell_type": "code",
      "source": [
        "Labelencod1 = LabelEncoder()\n",
        "Labelencod2 = LabelEncoder()\n",
        "Labelencod3 = LabelEncoder()\n",
        "Labelencod4 = LabelEncoder()\n",
        "Labelencod5 = LabelEncoder()\n",
        "Labelencod6 = LabelEncoder()\n",
        "Labelencod7 = LabelEncoder()\n",
        "Labelencod8 = LabelEncoder()\n",
        "Labelencod9 = LabelEncoder()"
      ],
      "metadata": {
        "id": "7MvWVp8PqozH"
      },
      "execution_count": null,
      "outputs": []
    },
    {
      "cell_type": "code",
      "source": [
        "data1[['class']] = data1[['class']].apply(Labelencod1.fit_transform)\n",
        "data1[['age']] = data1[['age']].apply(Labelencod2.fit_transform)\n",
        "data1[['menopause']] = data1[['menopause']].apply(Labelencod3.fit_transform)\n",
        "data1[['tumor-size']] = data1[['tumor-size']].apply(Labelencod4.fit_transform)\n",
        "data1[['inv-nodes']] = data1[['inv-nodes']].apply(Labelencod5.fit_transform)\n",
        "data1[['node-caps']] = data1[['node-caps']].apply(Labelencod6.fit_transform)\n",
        "data1[['breas']] = data1[['breas']].apply(Labelencod7.fit_transform)\n",
        "data1[['breast-quad']] = data1[['breast-quad']].apply(Labelencod8.fit_transform)\n",
        "data1[['irradiat']] = data1[['irradiat']].apply(Labelencod9.fit_transform)"
      ],
      "metadata": {
        "id": "O5qDm8P9yc7Y"
      },
      "execution_count": null,
      "outputs": []
    },
    {
      "cell_type": "markdown",
      "source": [
        "**if we want to do all the value together in lable encoder ** "
      ],
      "metadata": {
        "id": "2cT8_XEbgF3c"
      }
    },
    {
      "cell_type": "code",
      "execution_count": null,
      "metadata": {
        "id": "pAuZh2UAEVhb",
        "colab": {
          "base_uri": "https://localhost:8080/",
          "height": 70
        },
        "outputId": "3fd2c2dc-e3b1-443d-e2d8-185b42327817"
      },
      "outputs": [
        {
          "output_type": "execute_result",
          "data": {
            "text/plain": [
              "\" \\ndata1[['class','age','menopause',\\t'tumor-size',\\t'inv-nodes','node-caps','breas',\\t'breast-quad',\\t\\n       'irradiat']] = data1[['class','age','menopause',\\t'tumor-size',\\t'inv-nodes','node-caps','breas',\\t'breast-quad',\\t'irradiat']].apply(Labelencod.fit_transform)\\n\""
            ],
            "application/vnd.google.colaboratory.intrinsic+json": {
              "type": "string"
            }
          },
          "metadata": {},
          "execution_count": 23
        }
      ],
      "source": [
        "''' \n",
        "data1[['class','age','menopause',\t'tumor-size',\t'inv-nodes','node-caps','breas',\t'breast-quad',\t\n",
        "       'irradiat']] = data1[['class','age','menopause',\t'tumor-size',\t'inv-nodes','node-caps','breas',\t'breast-quad',\t'irradiat']].apply(Labelencod.fit_transform)\n",
        "'''"
      ]
    },
    {
      "cell_type": "code",
      "source": [
        "Labelencod1.classes_"
      ],
      "metadata": {
        "colab": {
          "base_uri": "https://localhost:8080/"
        },
        "id": "zqINFE0x04-3",
        "outputId": "2ef592e4-5e6e-42ce-ef4b-9008579011f4"
      },
      "execution_count": null,
      "outputs": [
        {
          "output_type": "execute_result",
          "data": {
            "text/plain": [
              "array(['no-recurrence-events', 'recurrence-events'], dtype=object)"
            ]
          },
          "metadata": {},
          "execution_count": 24
        }
      ]
    },
    {
      "cell_type": "code",
      "source": [
        "Labelencod3.classes_"
      ],
      "metadata": {
        "colab": {
          "base_uri": "https://localhost:8080/"
        },
        "id": "f7EDlT4305Uy",
        "outputId": "5bc6edad-3c17-464b-e44d-62c426b8e430"
      },
      "execution_count": null,
      "outputs": [
        {
          "output_type": "execute_result",
          "data": {
            "text/plain": [
              "array(['ge40', 'lt40', 'premeno'], dtype=object)"
            ]
          },
          "metadata": {},
          "execution_count": 25
        }
      ]
    },
    {
      "cell_type": "code",
      "source": [
        "data1.head(3)"
      ],
      "metadata": {
        "colab": {
          "base_uri": "https://localhost:8080/",
          "height": 143
        },
        "id": "or8Iiuvlq--_",
        "outputId": "00cc5e04-488d-4e06-d728-0c791c2b0e36"
      },
      "execution_count": null,
      "outputs": [
        {
          "output_type": "execute_result",
          "data": {
            "text/plain": [
              "   class  age  menopause  tumor-size  inv-nodes  node-caps  deg-malig  breas  \\\n",
              "0      0    0          2           5          0          1          3      0   \n",
              "1      0    1          2           3          0          1          2      1   \n",
              "2      0    1          2           3          0          1          2      0   \n",
              "\n",
              "   breast-quad  irradiat  \n",
              "0            2         0  \n",
              "1            5         0  \n",
              "2            2         0  "
            ],
            "text/html": [
              "\n",
              "  <div id=\"df-fcc5977b-f669-4845-bfe4-e20b674a2d2a\">\n",
              "    <div class=\"colab-df-container\">\n",
              "      <div>\n",
              "<style scoped>\n",
              "    .dataframe tbody tr th:only-of-type {\n",
              "        vertical-align: middle;\n",
              "    }\n",
              "\n",
              "    .dataframe tbody tr th {\n",
              "        vertical-align: top;\n",
              "    }\n",
              "\n",
              "    .dataframe thead th {\n",
              "        text-align: right;\n",
              "    }\n",
              "</style>\n",
              "<table border=\"1\" class=\"dataframe\">\n",
              "  <thead>\n",
              "    <tr style=\"text-align: right;\">\n",
              "      <th></th>\n",
              "      <th>class</th>\n",
              "      <th>age</th>\n",
              "      <th>menopause</th>\n",
              "      <th>tumor-size</th>\n",
              "      <th>inv-nodes</th>\n",
              "      <th>node-caps</th>\n",
              "      <th>deg-malig</th>\n",
              "      <th>breas</th>\n",
              "      <th>breast-quad</th>\n",
              "      <th>irradiat</th>\n",
              "    </tr>\n",
              "  </thead>\n",
              "  <tbody>\n",
              "    <tr>\n",
              "      <th>0</th>\n",
              "      <td>0</td>\n",
              "      <td>0</td>\n",
              "      <td>2</td>\n",
              "      <td>5</td>\n",
              "      <td>0</td>\n",
              "      <td>1</td>\n",
              "      <td>3</td>\n",
              "      <td>0</td>\n",
              "      <td>2</td>\n",
              "      <td>0</td>\n",
              "    </tr>\n",
              "    <tr>\n",
              "      <th>1</th>\n",
              "      <td>0</td>\n",
              "      <td>1</td>\n",
              "      <td>2</td>\n",
              "      <td>3</td>\n",
              "      <td>0</td>\n",
              "      <td>1</td>\n",
              "      <td>2</td>\n",
              "      <td>1</td>\n",
              "      <td>5</td>\n",
              "      <td>0</td>\n",
              "    </tr>\n",
              "    <tr>\n",
              "      <th>2</th>\n",
              "      <td>0</td>\n",
              "      <td>1</td>\n",
              "      <td>2</td>\n",
              "      <td>3</td>\n",
              "      <td>0</td>\n",
              "      <td>1</td>\n",
              "      <td>2</td>\n",
              "      <td>0</td>\n",
              "      <td>2</td>\n",
              "      <td>0</td>\n",
              "    </tr>\n",
              "  </tbody>\n",
              "</table>\n",
              "</div>\n",
              "      <button class=\"colab-df-convert\" onclick=\"convertToInteractive('df-fcc5977b-f669-4845-bfe4-e20b674a2d2a')\"\n",
              "              title=\"Convert this dataframe to an interactive table.\"\n",
              "              style=\"display:none;\">\n",
              "        \n",
              "  <svg xmlns=\"http://www.w3.org/2000/svg\" height=\"24px\"viewBox=\"0 0 24 24\"\n",
              "       width=\"24px\">\n",
              "    <path d=\"M0 0h24v24H0V0z\" fill=\"none\"/>\n",
              "    <path d=\"M18.56 5.44l.94 2.06.94-2.06 2.06-.94-2.06-.94-.94-2.06-.94 2.06-2.06.94zm-11 1L8.5 8.5l.94-2.06 2.06-.94-2.06-.94L8.5 2.5l-.94 2.06-2.06.94zm10 10l.94 2.06.94-2.06 2.06-.94-2.06-.94-.94-2.06-.94 2.06-2.06.94z\"/><path d=\"M17.41 7.96l-1.37-1.37c-.4-.4-.92-.59-1.43-.59-.52 0-1.04.2-1.43.59L10.3 9.45l-7.72 7.72c-.78.78-.78 2.05 0 2.83L4 21.41c.39.39.9.59 1.41.59.51 0 1.02-.2 1.41-.59l7.78-7.78 2.81-2.81c.8-.78.8-2.07 0-2.86zM5.41 20L4 18.59l7.72-7.72 1.47 1.35L5.41 20z\"/>\n",
              "  </svg>\n",
              "      </button>\n",
              "      \n",
              "  <style>\n",
              "    .colab-df-container {\n",
              "      display:flex;\n",
              "      flex-wrap:wrap;\n",
              "      gap: 12px;\n",
              "    }\n",
              "\n",
              "    .colab-df-convert {\n",
              "      background-color: #E8F0FE;\n",
              "      border: none;\n",
              "      border-radius: 50%;\n",
              "      cursor: pointer;\n",
              "      display: none;\n",
              "      fill: #1967D2;\n",
              "      height: 32px;\n",
              "      padding: 0 0 0 0;\n",
              "      width: 32px;\n",
              "    }\n",
              "\n",
              "    .colab-df-convert:hover {\n",
              "      background-color: #E2EBFA;\n",
              "      box-shadow: 0px 1px 2px rgba(60, 64, 67, 0.3), 0px 1px 3px 1px rgba(60, 64, 67, 0.15);\n",
              "      fill: #174EA6;\n",
              "    }\n",
              "\n",
              "    [theme=dark] .colab-df-convert {\n",
              "      background-color: #3B4455;\n",
              "      fill: #D2E3FC;\n",
              "    }\n",
              "\n",
              "    [theme=dark] .colab-df-convert:hover {\n",
              "      background-color: #434B5C;\n",
              "      box-shadow: 0px 1px 3px 1px rgba(0, 0, 0, 0.15);\n",
              "      filter: drop-shadow(0px 1px 2px rgba(0, 0, 0, 0.3));\n",
              "      fill: #FFFFFF;\n",
              "    }\n",
              "  </style>\n",
              "\n",
              "      <script>\n",
              "        const buttonEl =\n",
              "          document.querySelector('#df-fcc5977b-f669-4845-bfe4-e20b674a2d2a button.colab-df-convert');\n",
              "        buttonEl.style.display =\n",
              "          google.colab.kernel.accessAllowed ? 'block' : 'none';\n",
              "\n",
              "        async function convertToInteractive(key) {\n",
              "          const element = document.querySelector('#df-fcc5977b-f669-4845-bfe4-e20b674a2d2a');\n",
              "          const dataTable =\n",
              "            await google.colab.kernel.invokeFunction('convertToInteractive',\n",
              "                                                     [key], {});\n",
              "          if (!dataTable) return;\n",
              "\n",
              "          const docLinkHtml = 'Like what you see? Visit the ' +\n",
              "            '<a target=\"_blank\" href=https://colab.research.google.com/notebooks/data_table.ipynb>data table notebook</a>'\n",
              "            + ' to learn more about interactive tables.';\n",
              "          element.innerHTML = '';\n",
              "          dataTable['output_type'] = 'display_data';\n",
              "          await google.colab.output.renderOutput(dataTable, element);\n",
              "          const docLink = document.createElement('div');\n",
              "          docLink.innerHTML = docLinkHtml;\n",
              "          element.appendChild(docLink);\n",
              "        }\n",
              "      </script>\n",
              "    </div>\n",
              "  </div>\n",
              "  "
            ]
          },
          "metadata": {},
          "execution_count": 26
        }
      ]
    },
    {
      "cell_type": "code",
      "source": [
        "data1.to_csv('lableencodedbreastcancer.csv')"
      ],
      "metadata": {
        "id": "SbyyXu7uAbeH"
      },
      "execution_count": null,
      "outputs": []
    },
    {
      "cell_type": "code",
      "source": [
        "sns.pairplot(data1, hue = 'class')"
      ],
      "metadata": {
        "colab": {
          "base_uri": "https://localhost:8080/",
          "height": 950
        },
        "id": "r8ioxUftrCIT",
        "outputId": "1c064a14-2206-40a6-fcc0-f1cc2113df09"
      },
      "execution_count": null,
      "outputs": [
        {
          "output_type": "execute_result",
          "data": {
            "text/plain": [
              "<seaborn.axisgrid.PairGrid at 0x7f99917c3e20>"
            ]
          },
          "metadata": {},
          "execution_count": 28
        },
        {
          "output_type": "display_data",
          "data": {
            "text/plain": [
              "<Figure size 1662.38x1620 with 90 Axes>"
            ],
            "image/png": "[encoded data removed]"
          },
          "metadata": {
            "needs_background": "light"
          }
        }
      ]
    },
    {
      "cell_type": "code",
      "source": [
        "X = data1.iloc[:, 1:10].values\n",
        "y = data1['class'].values"
      ],
      "metadata": {
        "id": "W_gYW0PWrX5j"
      },
      "execution_count": null,
      "outputs": []
    },
    {
      "cell_type": "code",
      "source": [
        "from sklearn.model_selection import train_test_split\n",
        "from sklearn.linear_model import LogisticRegression\n",
        "from sklearn.metrics import accuracy_score, classification_report"
      ],
      "metadata": {
        "id": "3vMkK9GAu3CH"
      },
      "execution_count": null,
      "outputs": []
    },
    {
      "cell_type": "code",
      "source": [
        "LRmodel =  LogisticRegression()"
      ],
      "metadata": {
        "id": "4KJvNCdVwUX1"
      },
      "execution_count": null,
      "outputs": []
    },
    {
      "cell_type": "code",
      "source": [
        "X_train,X_test, y_train , y_test  = train_test_split(X,y,test_size=0.3, random_state=0)"
      ],
      "metadata": {
        "id": "2-yPRHGE74FK"
      },
      "execution_count": null,
      "outputs": []
    },
    {
      "cell_type": "code",
      "source": [
        "LRmodel.fit(X_train,y_train)"
      ],
      "metadata": {
        "colab": {
          "base_uri": "https://localhost:8080/"
        },
        "id": "UfyWHEN0y1QZ",
        "outputId": "3da2afe3-4a41-4073-d607-4d7ad664db85"
      },
      "execution_count": null,
      "outputs": [
        {
          "output_type": "execute_result",
          "data": {
            "text/plain": [
              "LogisticRegression()"
            ]
          },
          "metadata": {},
          "execution_count": 33
        }
      ]
    },
    {
      "cell_type": "code",
      "source": [
        "y_pred = LRmodel.predict(X_test)\n",
        "print(y_pred)"
      ],
      "metadata": {
        "colab": {
          "base_uri": "https://localhost:8080/"
        },
        "id": "9o85svxry-nr",
        "outputId": "13b4d6fc-48e1-4770-da52-0d8911f5dc17"
      },
      "execution_count": null,
      "outputs": [
        {
          "output_type": "stream",
          "name": "stdout",
          "text": [
            "[1 0 0 0 0 0 0 0 0 0 0 0 0 0 0 0 0 0 0 0 0 0 0 0 0 0 0 0 0 0 1 0 0 0 1 0 0\n",
            " 0 0 0 0 0 1 0 1 1 0 0 0 0 1 0 0 1 0 0 1 0 1 0 0 0 0 0 0 0 0 0 0 0 0 0 0 1\n",
            " 0 0 0 0 1 0 0 0 0 0]\n"
          ]
        }
      ]
    },
    {
      "cell_type": "code",
      "source": [
        "print(y_test)"
      ],
      "metadata": {
        "colab": {
          "base_uri": "https://localhost:8080/"
        },
        "id": "24ge7aNt9CiR",
        "outputId": "59417aa4-8bfb-4424-8530-0b0f6d336672"
      },
      "execution_count": null,
      "outputs": [
        {
          "output_type": "stream",
          "name": "stdout",
          "text": [
            "[1 1 1 0 0 1 1 0 1 0 0 0 0 0 0 0 0 1 0 0 0 0 0 0 0 0 1 0 0 0 0 0 0 0 1 1 0\n",
            " 0 0 0 0 0 1 1 1 1 0 0 0 0 1 0 0 0 1 0 1 0 1 1 1 0 0 0 1 1 0 1 0 0 0 0 1 1\n",
            " 1 0 0 0 0 1 1 0 0 1]\n"
          ]
        }
      ]
    },
    {
      "cell_type": "code",
      "source": [
        "accuracy_score(y_test,y_pred)"
      ],
      "metadata": {
        "colab": {
          "base_uri": "https://localhost:8080/"
        },
        "id": "zuGG6g60za2K",
        "outputId": "02fb3329-0efd-46a3-a219-604bb47d412a"
      },
      "execution_count": null,
      "outputs": [
        {
          "output_type": "execute_result",
          "data": {
            "text/plain": [
              "0.7261904761904762"
            ]
          },
          "metadata": {},
          "execution_count": 36
        }
      ]
    },
    {
      "cell_type": "code",
      "source": [
        "result_of_classification = classification_report(y_test,y_pred)"
      ],
      "metadata": {
        "id": "gzG9NpS_ziho"
      },
      "execution_count": null,
      "outputs": []
    },
    {
      "cell_type": "code",
      "source": [
        "print(result_of_classification)"
      ],
      "metadata": {
        "colab": {
          "base_uri": "https://localhost:8080/"
        },
        "id": "TlI-CI0Nzzin",
        "outputId": "4a2e6237-b887-497d-94c6-7bbb7f1f3222"
      },
      "execution_count": null,
      "outputs": [
        {
          "output_type": "stream",
          "name": "stdout",
          "text": [
            "              precision    recall  f1-score   support\n",
            "\n",
            "           0       0.72      0.95      0.82        55\n",
            "           1       0.75      0.31      0.44        29\n",
            "\n",
            "    accuracy                           0.73        84\n",
            "   macro avg       0.74      0.63      0.63        84\n",
            "weighted avg       0.73      0.73      0.69        84\n",
            "\n"
          ]
        }
      ]
    },
    {
      "cell_type": "code",
      "source": [
        "from sklearn.metrics import confusion_matrix"
      ],
      "metadata": {
        "id": "E5JprVF-3OfA"
      },
      "execution_count": null,
      "outputs": []
    },
    {
      "cell_type": "code",
      "source": [
        "print(confusion_matrix(y_test,y_pred))"
      ],
      "metadata": {
        "colab": {
          "base_uri": "https://localhost:8080/"
        },
        "id": "ik1n1nGU3uWK",
        "outputId": "fd6cb7ff-9aa0-4683-ee22-2743c864b1ec"
      },
      "execution_count": null,
      "outputs": [
        {
          "output_type": "stream",
          "name": "stdout",
          "text": [
            "[[52  3]\n",
            " [20  9]]\n"
          ]
        }
      ]
    },
    {
      "cell_type": "code",
      "source": [],
      "metadata": {
        "id": "ypwP-OGO3uaD"
      },
      "execution_count": null,
      "outputs": []
    },
    {
      "cell_type": "code",
      "source": [],
      "metadata": {
        "id": "eoecC-DP3ude"
      },
      "execution_count": null,
      "outputs": []
    },
    {
      "cell_type": "code",
      "source": [],
      "metadata": {
        "id": "FEeJkeHA3ug8"
      },
      "execution_count": null,
      "outputs": []
    },
    {
      "cell_type": "markdown",
      "source": [
        "#**second model**"
      ],
      "metadata": {
        "id": "YfgWe_Jg-yCH"
      }
    },
    {
      "cell_type": "markdown",
      "source": [
        "# **Using ANN**"
      ],
      "metadata": {
        "id": "Ve_9HSPaxUfD"
      }
    },
    {
      "cell_type": "code",
      "source": [
        "import matplotlib.pyplot as plt\n",
        "import tensorflow as tf\n"
      ],
      "metadata": {
        "id": "UJmdsJvtxV6v"
      },
      "execution_count": null,
      "outputs": []
    },
    {
      "cell_type": "code",
      "source": [
        "data1.describe(include='all')"
      ],
      "metadata": {
        "colab": {
          "base_uri": "https://localhost:8080/",
          "height": 344
        },
        "id": "jUpNFTfaieS_",
        "outputId": "0ac6c65a-0131-4ccf-90d9-bfb60f39e401"
      },
      "execution_count": null,
      "outputs": [
        {
          "output_type": "execute_result",
          "data": {
            "text/plain": [
              "            class         age   menopause  tumor-size   inv-nodes   node-caps  \\\n",
              "count  279.000000  279.000000  279.000000  279.000000  279.000000  279.000000   \n",
              "mean     0.301075    1.623656    1.093190    4.071685    1.078853    1.175627   \n",
              "std      0.459550    0.951114    0.984734    2.134477    1.930692    0.442338   \n",
              "min      0.000000    0.000000    0.000000    0.000000    0.000000    0.000000   \n",
              "25%      0.000000    1.000000    0.000000    3.000000    0.000000    1.000000   \n",
              "50%      0.000000    2.000000    2.000000    4.000000    0.000000    1.000000   \n",
              "75%      1.000000    2.000000    2.000000    5.000000    1.000000    1.000000   \n",
              "max      1.000000    3.000000    2.000000   10.000000    6.000000    2.000000   \n",
              "\n",
              "        deg-malig       breas  breast-quad    irradiat  \n",
              "count  279.000000  279.000000   279.000000  279.000000  \n",
              "mean     2.060932    0.469534     2.759857    0.240143  \n",
              "std      0.734465    0.499968     1.087718    0.427938  \n",
              "min      1.000000    0.000000     0.000000    0.000000  \n",
              "25%      2.000000    0.000000     2.000000    0.000000  \n",
              "50%      2.000000    0.000000     3.000000    0.000000  \n",
              "75%      3.000000    1.000000     3.000000    0.000000  \n",
              "max      3.000000    1.000000     5.000000    1.000000  "
            ],
            "text/html": [
              "\n",
              "  <div id=\"df-e84c59e4-5779-4949-aaaa-5a87ea975df7\">\n",
              "    <div class=\"colab-df-container\">\n",
              "      <div>\n",
              "<style scoped>\n",
              "    .dataframe tbody tr th:only-of-type {\n",
              "        vertical-align: middle;\n",
              "    }\n",
              "\n",
              "    .dataframe tbody tr th {\n",
              "        vertical-align: top;\n",
              "    }\n",
              "\n",
              "    .dataframe thead th {\n",
              "        text-align: right;\n",
              "    }\n",
              "</style>\n",
              "<table border=\"1\" class=\"dataframe\">\n",
              "  <thead>\n",
              "    <tr style=\"text-align: right;\">\n",
              "      <th></th>\n",
              "      <th>class</th>\n",
              "      <th>age</th>\n",
              "      <th>menopause</th>\n",
              "      <th>tumor-size</th>\n",
              "      <th>inv-nodes</th>\n",
              "      <th>node-caps</th>\n",
              "      <th>deg-malig</th>\n",
              "      <th>breas</th>\n",
              "      <th>breast-quad</th>\n",
              "      <th>irradiat</th>\n",
              "    </tr>\n",
              "  </thead>\n",
              "  <tbody>\n",
              "    <tr>\n",
              "      <th>count</th>\n",
              "      <td>279.000000</td>\n",
              "      <td>279.000000</td>\n",
              "      <td>279.000000</td>\n",
              "      <td>279.000000</td>\n",
              "      <td>279.000000</td>\n",
              "      <td>279.000000</td>\n",
              "      <td>279.000000</td>\n",
              "      <td>279.000000</td>\n",
              "      <td>279.000000</td>\n",
              "      <td>279.000000</td>\n",
              "    </tr>\n",
              "    <tr>\n",
              "      <th>mean</th>\n",
              "      <td>0.301075</td>\n",
              "      <td>1.623656</td>\n",
              "      <td>1.093190</td>\n",
              "      <td>4.071685</td>\n",
              "      <td>1.078853</td>\n",
              "      <td>1.175627</td>\n",
              "      <td>2.060932</td>\n",
              "      <td>0.469534</td>\n",
              "      <td>2.759857</td>\n",
              "      <td>0.240143</td>\n",
              "    </tr>\n",
              "    <tr>\n",
              "      <th>std</th>\n",
              "      <td>0.459550</td>\n",
              "      <td>0.951114</td>\n",
              "      <td>0.984734</td>\n",
              "      <td>2.134477</td>\n",
              "      <td>1.930692</td>\n",
              "      <td>0.442338</td>\n",
              "      <td>0.734465</td>\n",
              "      <td>0.499968</td>\n",
              "      <td>1.087718</td>\n",
              "      <td>0.427938</td>\n",
              "    </tr>\n",
              "    <tr>\n",
              "      <th>min</th>\n",
              "      <td>0.000000</td>\n",
              "      <td>0.000000</td>\n",
              "      <td>0.000000</td>\n",
              "      <td>0.000000</td>\n",
              "      <td>0.000000</td>\n",
              "      <td>0.000000</td>\n",
              "      <td>1.000000</td>\n",
              "      <td>0.000000</td>\n",
              "      <td>0.000000</td>\n",
              "      <td>0.000000</td>\n",
              "    </tr>\n",
              "    <tr>\n",
              "      <th>25%</th>\n",
              "      <td>0.000000</td>\n",
              "      <td>1.000000</td>\n",
              "      <td>0.000000</td>\n",
              "      <td>3.000000</td>\n",
              "      <td>0.000000</td>\n",
              "      <td>1.000000</td>\n",
              "      <td>2.000000</td>\n",
              "      <td>0.000000</td>\n",
              "      <td>2.000000</td>\n",
              "      <td>0.000000</td>\n",
              "    </tr>\n",
              "    <tr>\n",
              "      <th>50%</th>\n",
              "      <td>0.000000</td>\n",
              "      <td>2.000000</td>\n",
              "      <td>2.000000</td>\n",
              "      <td>4.000000</td>\n",
              "      <td>0.000000</td>\n",
              "      <td>1.000000</td>\n",
              "      <td>2.000000</td>\n",
              "      <td>0.000000</td>\n",
              "      <td>3.000000</td>\n",
              "      <td>0.000000</td>\n",
              "    </tr>\n",
              "    <tr>\n",
              "      <th>75%</th>\n",
              "      <td>1.000000</td>\n",
              "      <td>2.000000</td>\n",
              "      <td>2.000000</td>\n",
              "      <td>5.000000</td>\n",
              "      <td>1.000000</td>\n",
              "      <td>1.000000</td>\n",
              "      <td>3.000000</td>\n",
              "      <td>1.000000</td>\n",
              "      <td>3.000000</td>\n",
              "      <td>0.000000</td>\n",
              "    </tr>\n",
              "    <tr>\n",
              "      <th>max</th>\n",
              "      <td>1.000000</td>\n",
              "      <td>3.000000</td>\n",
              "      <td>2.000000</td>\n",
              "      <td>10.000000</td>\n",
              "      <td>6.000000</td>\n",
              "      <td>2.000000</td>\n",
              "      <td>3.000000</td>\n",
              "      <td>1.000000</td>\n",
              "      <td>5.000000</td>\n",
              "      <td>1.000000</td>\n",
              "    </tr>\n",
              "  </tbody>\n",
              "</table>\n",
              "</div>\n",
              "      <button class=\"colab-df-convert\" onclick=\"convertToInteractive('df-e84c59e4-5779-4949-aaaa-5a87ea975df7')\"\n",
              "              title=\"Convert this dataframe to an interactive table.\"\n",
              "              style=\"display:none;\">\n",
              "        \n",
              "  <svg xmlns=\"http://www.w3.org/2000/svg\" height=\"24px\"viewBox=\"0 0 24 24\"\n",
              "       width=\"24px\">\n",
              "    <path d=\"M0 0h24v24H0V0z\" fill=\"none\"/>\n",
              "    <path d=\"M18.56 5.44l.94 2.06.94-2.06 2.06-.94-2.06-.94-.94-2.06-.94 2.06-2.06.94zm-11 1L8.5 8.5l.94-2.06 2.06-.94-2.06-.94L8.5 2.5l-.94 2.06-2.06.94zm10 10l.94 2.06.94-2.06 2.06-.94-2.06-.94-.94-2.06-.94 2.06-2.06.94z\"/><path d=\"M17.41 7.96l-1.37-1.37c-.4-.4-.92-.59-1.43-.59-.52 0-1.04.2-1.43.59L10.3 9.45l-7.72 7.72c-.78.78-.78 2.05 0 2.83L4 21.41c.39.39.9.59 1.41.59.51 0 1.02-.2 1.41-.59l7.78-7.78 2.81-2.81c.8-.78.8-2.07 0-2.86zM5.41 20L4 18.59l7.72-7.72 1.47 1.35L5.41 20z\"/>\n",
              "  </svg>\n",
              "      </button>\n",
              "      \n",
              "  <style>\n",
              "    .colab-df-container {\n",
              "      display:flex;\n",
              "      flex-wrap:wrap;\n",
              "      gap: 12px;\n",
              "    }\n",
              "\n",
              "    .colab-df-convert {\n",
              "      background-color: #E8F0FE;\n",
              "      border: none;\n",
              "      border-radius: 50%;\n",
              "      cursor: pointer;\n",
              "      display: none;\n",
              "      fill: #1967D2;\n",
              "      height: 32px;\n",
              "      padding: 0 0 0 0;\n",
              "      width: 32px;\n",
              "    }\n",
              "\n",
              "    .colab-df-convert:hover {\n",
              "      background-color: #E2EBFA;\n",
              "      box-shadow: 0px 1px 2px rgba(60, 64, 67, 0.3), 0px 1px 3px 1px rgba(60, 64, 67, 0.15);\n",
              "      fill: #174EA6;\n",
              "    }\n",
              "\n",
              "    [theme=dark] .colab-df-convert {\n",
              "      background-color: #3B4455;\n",
              "      fill: #D2E3FC;\n",
              "    }\n",
              "\n",
              "    [theme=dark] .colab-df-convert:hover {\n",
              "      background-color: #434B5C;\n",
              "      box-shadow: 0px 1px 3px 1px rgba(0, 0, 0, 0.15);\n",
              "      filter: drop-shadow(0px 1px 2px rgba(0, 0, 0, 0.3));\n",
              "      fill: #FFFFFF;\n",
              "    }\n",
              "  </style>\n",
              "\n",
              "      <script>\n",
              "        const buttonEl =\n",
              "          document.querySelector('#df-e84c59e4-5779-4949-aaaa-5a87ea975df7 button.colab-df-convert');\n",
              "        buttonEl.style.display =\n",
              "          google.colab.kernel.accessAllowed ? 'block' : 'none';\n",
              "\n",
              "        async function convertToInteractive(key) {\n",
              "          const element = document.querySelector('#df-e84c59e4-5779-4949-aaaa-5a87ea975df7');\n",
              "          const dataTable =\n",
              "            await google.colab.kernel.invokeFunction('convertToInteractive',\n",
              "                                                     [key], {});\n",
              "          if (!dataTable) return;\n",
              "\n",
              "          const docLinkHtml = 'Like what you see? Visit the ' +\n",
              "            '<a target=\"_blank\" href=https://colab.research.google.com/notebooks/data_table.ipynb>data table notebook</a>'\n",
              "            + ' to learn more about interactive tables.';\n",
              "          element.innerHTML = '';\n",
              "          dataTable['output_type'] = 'display_data';\n",
              "          await google.colab.output.renderOutput(dataTable, element);\n",
              "          const docLink = document.createElement('div');\n",
              "          docLink.innerHTML = docLinkHtml;\n",
              "          element.appendChild(docLink);\n",
              "        }\n",
              "      </script>\n",
              "    </div>\n",
              "  </div>\n",
              "  "
            ]
          },
          "metadata": {},
          "execution_count": 42
        }
      ]
    },
    {
      "cell_type": "code",
      "source": [
        "data1.shape"
      ],
      "metadata": {
        "colab": {
          "base_uri": "https://localhost:8080/"
        },
        "id": "tFN2OvXiiqFJ",
        "outputId": "b9b753f2-d4ec-4a1c-bf71-99c84cfb4741"
      },
      "execution_count": null,
      "outputs": [
        {
          "output_type": "execute_result",
          "data": {
            "text/plain": [
              "(279, 10)"
            ]
          },
          "metadata": {},
          "execution_count": 43
        }
      ]
    },
    {
      "cell_type": "code",
      "source": [
        "sns.countplot(data1['class'],label=\"Count\")"
      ],
      "metadata": {
        "colab": {
          "base_uri": "https://localhost:8080/",
          "height": 351
        },
        "id": "eMqRbyrhjUYD",
        "outputId": "9978eadb-47dd-419d-cf3c-122801356b82"
      },
      "execution_count": null,
      "outputs": [
        {
          "output_type": "stream",
          "name": "stderr",
          "text": [
            "/usr/local/lib/python3.8/dist-packages/seaborn/_decorators.py:36: FutureWarning: Pass the following variable as a keyword arg: x. From version 0.12, the only valid positional argument will be `data`, and passing other arguments without an explicit keyword will result in an error or misinterpretation.\n",
            "  warnings.warn(\n"
          ]
        },
        {
          "output_type": "execute_result",
          "data": {
            "text/plain": [
              "<matplotlib.axes._subplots.AxesSubplot at 0x7f993250f190>"
            ]
          },
          "metadata": {},
          "execution_count": 44
        },
        {
          "output_type": "display_data",
          "data": {
            "text/plain": [
              "<Figure size 432x288 with 1 Axes>"
            ],
            "image/png": "[encoded data removed]"
          },
          "metadata": {
            "needs_background": "light"
          }
        }
      ]
    },
    {
      "cell_type": "code",
      "source": [
        "X_train, X_test, y_train, y_test = train_test_split(X, y, test_size =0.3, stratify=y, random_state=33)"
      ],
      "metadata": {
        "id": "cSyw6CdCj-m5"
      },
      "execution_count": null,
      "outputs": []
    },
    {
      "cell_type": "markdown",
      "source": [],
      "metadata": {
        "id": "m_C4vCLuagse"
      }
    },
    {
      "cell_type": "code",
      "source": [
        "#class is imbalance\n",
        "from imblearn.over_sampling import RandomOverSampler"
      ],
      "metadata": {
        "id": "w-YEY904XJMt"
      },
      "execution_count": null,
      "outputs": []
    },
    {
      "cell_type": "code",
      "source": [
        "resampler  =  RandomOverSampler(random_state = 0)\n",
        "X_train_over , y_train_over = resampler.fit_resample(X_train,y_train)"
      ],
      "metadata": {
        "id": "_1DwCCwyXJeH"
      },
      "execution_count": null,
      "outputs": []
    },
    {
      "cell_type": "code",
      "source": [
        "sns.countplot(y_train_over)"
      ],
      "metadata": {
        "colab": {
          "base_uri": "https://localhost:8080/",
          "height": 337
        },
        "id": "Ln5tfU4YXJlY",
        "outputId": "ca899ee1-fb9b-41ad-dc79-3d1c9f6745e8"
      },
      "execution_count": null,
      "outputs": [
        {
          "output_type": "stream",
          "name": "stderr",
          "text": [
            "/usr/local/lib/python3.8/dist-packages/seaborn/_decorators.py:36: FutureWarning: Pass the following variable as a keyword arg: x. From version 0.12, the only valid positional argument will be `data`, and passing other arguments without an explicit keyword will result in an error or misinterpretation.\n",
            "  warnings.warn(\n"
          ]
        },
        {
          "output_type": "execute_result",
          "data": {
            "text/plain": [
              "<matplotlib.axes._subplots.AxesSubplot at 0x7f9931abee20>"
            ]
          },
          "metadata": {},
          "execution_count": 48
        },
        {
          "output_type": "display_data",
          "data": {
            "text/plain": [
              "<Figure size 432x288 with 1 Axes>"
            ],
            "image/png": "[encoded data removed]"
          },
          "metadata": {
            "needs_background": "light"
          }
        }
      ]
    },
    {
      "cell_type": "code",
      "source": [
        "model_for_ann =  tf.keras.Sequential()"
      ],
      "metadata": {
        "id": "LGckbO0Si1Jk"
      },
      "execution_count": null,
      "outputs": []
    },
    {
      "cell_type": "code",
      "source": [
        "X.shape"
      ],
      "metadata": {
        "colab": {
          "base_uri": "https://localhost:8080/"
        },
        "id": "tRRgzc6epSXP",
        "outputId": "daafe8b7-2646-406e-bf9a-a1c71b670c5b"
      },
      "execution_count": null,
      "outputs": [
        {
          "output_type": "execute_result",
          "data": {
            "text/plain": [
              "(279, 9)"
            ]
          },
          "metadata": {},
          "execution_count": 50
        }
      ]
    },
    {
      "cell_type": "code",
      "source": [
        "model_for_ann.add(tf.keras.layers.Dense(9,activation='relu',input_shape=(9,)))\n",
        "model_for_ann.add(tf.keras.layers.Dense(4,activation='relu'))\n",
        "model_for_ann.add(tf.keras.layers.Dense(2,activation='sigmoid'))\n"
      ],
      "metadata": {
        "id": "RyNsVv1ajESZ"
      },
      "execution_count": null,
      "outputs": []
    },
    {
      "cell_type": "code",
      "source": [
        "model_for_ann.compile(optimizer='adam',loss='sparse_categorical_crossentropy', metrics='accuracy')\n"
      ],
      "metadata": {
        "id": "ZkFgcsCgmmT3"
      },
      "execution_count": null,
      "outputs": []
    },
    {
      "cell_type": "code",
      "source": [
        "model_for_ann.summary()"
      ],
      "metadata": {
        "colab": {
          "base_uri": "https://localhost:8080/"
        },
        "id": "Iq6GXuOwm281",
        "outputId": "beed9a30-6557-4593-c7b7-8c6504c8b253"
      },
      "execution_count": null,
      "outputs": [
        {
          "output_type": "stream",
          "name": "stdout",
          "text": [
            "Model: \"sequential\"\n",
            "_________________________________________________________________\n",
            " Layer (type)                Output Shape              Param #   \n",
            "=================================================================\n",
            " dense (Dense)               (None, 9)                 90        \n",
            "                                                                 \n",
            " dense_1 (Dense)             (None, 4)                 40        \n",
            "                                                                 \n",
            " dense_2 (Dense)             (None, 2)                 10        \n",
            "                                                                 \n",
            "=================================================================\n",
            "Total params: 140\n",
            "Trainable params: 140\n",
            "Non-trainable params: 0\n",
            "_________________________________________________________________\n"
          ]
        }
      ]
    },
    {
      "cell_type": "markdown",
      "source": [
        "the class is imbalnce for this we using weight parameter"
      ],
      "metadata": {
        "id": "7Pl0UHxunkUC"
      }
    },
    {
      "cell_type": "code",
      "source": [
        "#weights = {0:1, 1:5}"
      ],
      "metadata": {
        "id": "dsE81PqEnz9S"
      },
      "execution_count": null,
      "outputs": []
    },
    {
      "cell_type": "code",
      "source": [
        "history = model_for_ann.fit(X_train_over, y_train_over, batch_size = 4, epochs= 160, validation_split=0.2)\n"
      ],
      "metadata": {
        "colab": {
          "base_uri": "https://localhost:8080/"
        },
        "id": "bw5VSCW1n6Op",
        "outputId": "79a72655-4e44-48b4-e378-a62509009d99"
      },
      "execution_count": null,
      "outputs": [
        {
          "output_type": "stream",
          "name": "stdout",
          "text": [
            "Epoch 1/160\n",
            "55/55 [==============================] - 3s 6ms/step - loss: 0.7298 - accuracy: 0.6267 - val_loss: 1.1361 - val_accuracy: 0.0182\n",
            "Epoch 2/160\n",
            "55/55 [==============================] - 0s 3ms/step - loss: 0.6872 - accuracy: 0.6590 - val_loss: 1.0091 - val_accuracy: 0.1818\n",
            "Epoch 3/160\n",
            "55/55 [==============================] - 0s 4ms/step - loss: 0.6750 - accuracy: 0.6820 - val_loss: 0.9353 - val_accuracy: 0.2545\n",
            "Epoch 4/160\n",
            "55/55 [==============================] - 0s 3ms/step - loss: 0.6669 - accuracy: 0.6682 - val_loss: 0.8997 - val_accuracy: 0.2545\n",
            "Epoch 5/160\n",
            "55/55 [==============================] - 0s 4ms/step - loss: 0.6589 - accuracy: 0.6544 - val_loss: 0.8698 - val_accuracy: 0.3091\n",
            "Epoch 6/160\n",
            "55/55 [==============================] - 0s 4ms/step - loss: 0.6498 - accuracy: 0.6590 - val_loss: 0.8949 - val_accuracy: 0.2727\n",
            "Epoch 7/160\n",
            "55/55 [==============================] - 0s 3ms/step - loss: 0.6439 - accuracy: 0.6728 - val_loss: 0.8614 - val_accuracy: 0.3273\n",
            "Epoch 8/160\n",
            "55/55 [==============================] - 0s 3ms/step - loss: 0.6371 - accuracy: 0.6774 - val_loss: 0.8631 - val_accuracy: 0.3273\n",
            "Epoch 9/160\n",
            "55/55 [==============================] - 0s 3ms/step - loss: 0.6320 - accuracy: 0.6866 - val_loss: 0.8803 - val_accuracy: 0.3273\n",
            "Epoch 10/160\n",
            "55/55 [==============================] - 0s 4ms/step - loss: 0.6296 - accuracy: 0.6866 - val_loss: 0.8817 - val_accuracy: 0.3273\n",
            "Epoch 11/160\n",
            "55/55 [==============================] - 0s 4ms/step - loss: 0.6257 - accuracy: 0.6820 - val_loss: 0.8530 - val_accuracy: 0.3455\n",
            "Epoch 12/160\n",
            "55/55 [==============================] - 0s 3ms/step - loss: 0.6251 - accuracy: 0.6728 - val_loss: 0.8784 - val_accuracy: 0.3273\n",
            "Epoch 13/160\n",
            "55/55 [==============================] - 0s 3ms/step - loss: 0.6217 - accuracy: 0.6820 - val_loss: 0.8799 - val_accuracy: 0.3455\n",
            "Epoch 14/160\n",
            "55/55 [==============================] - 0s 3ms/step - loss: 0.6183 - accuracy: 0.6820 - val_loss: 0.8495 - val_accuracy: 0.3455\n",
            "Epoch 15/160\n",
            "55/55 [==============================] - 0s 3ms/step - loss: 0.6154 - accuracy: 0.6820 - val_loss: 0.8793 - val_accuracy: 0.3455\n",
            "Epoch 16/160\n",
            "55/55 [==============================] - 0s 4ms/step - loss: 0.6177 - accuracy: 0.7143 - val_loss: 0.8166 - val_accuracy: 0.4545\n",
            "Epoch 17/160\n",
            "55/55 [==============================] - 0s 4ms/step - loss: 0.6109 - accuracy: 0.6959 - val_loss: 0.8464 - val_accuracy: 0.4000\n",
            "Epoch 18/160\n",
            "55/55 [==============================] - 0s 4ms/step - loss: 0.6082 - accuracy: 0.7005 - val_loss: 0.8498 - val_accuracy: 0.4000\n",
            "Epoch 19/160\n",
            "55/55 [==============================] - 0s 3ms/step - loss: 0.6077 - accuracy: 0.7051 - val_loss: 0.8342 - val_accuracy: 0.4545\n",
            "Epoch 20/160\n",
            "55/55 [==============================] - 0s 3ms/step - loss: 0.6042 - accuracy: 0.7051 - val_loss: 0.8356 - val_accuracy: 0.4545\n",
            "Epoch 21/160\n",
            "55/55 [==============================] - 0s 3ms/step - loss: 0.6037 - accuracy: 0.7051 - val_loss: 0.8314 - val_accuracy: 0.4545\n",
            "Epoch 22/160\n",
            "55/55 [==============================] - 0s 3ms/step - loss: 0.6005 - accuracy: 0.7051 - val_loss: 0.8669 - val_accuracy: 0.4000\n",
            "Epoch 23/160\n",
            "55/55 [==============================] - 0s 3ms/step - loss: 0.6002 - accuracy: 0.7097 - val_loss: 0.8236 - val_accuracy: 0.4545\n",
            "Epoch 24/160\n",
            "55/55 [==============================] - 0s 3ms/step - loss: 0.5968 - accuracy: 0.7005 - val_loss: 0.8530 - val_accuracy: 0.4000\n",
            "Epoch 25/160\n",
            "55/55 [==============================] - 0s 4ms/step - loss: 0.5948 - accuracy: 0.7051 - val_loss: 0.8337 - val_accuracy: 0.4545\n",
            "Epoch 26/160\n",
            "55/55 [==============================] - 0s 4ms/step - loss: 0.5978 - accuracy: 0.7097 - val_loss: 0.8386 - val_accuracy: 0.4000\n",
            "Epoch 27/160\n",
            "55/55 [==============================] - 0s 4ms/step - loss: 0.5934 - accuracy: 0.7051 - val_loss: 0.8370 - val_accuracy: 0.4000\n",
            "Epoch 28/160\n",
            "55/55 [==============================] - 0s 3ms/step - loss: 0.5904 - accuracy: 0.7051 - val_loss: 0.8107 - val_accuracy: 0.4545\n",
            "Epoch 29/160\n",
            "55/55 [==============================] - 0s 4ms/step - loss: 0.5884 - accuracy: 0.7143 - val_loss: 0.8439 - val_accuracy: 0.4545\n",
            "Epoch 30/160\n",
            "55/55 [==============================] - 0s 4ms/step - loss: 0.5874 - accuracy: 0.7097 - val_loss: 0.8137 - val_accuracy: 0.4545\n",
            "Epoch 31/160\n",
            "55/55 [==============================] - 0s 3ms/step - loss: 0.5853 - accuracy: 0.7097 - val_loss: 0.8194 - val_accuracy: 0.4545\n",
            "Epoch 32/160\n",
            "55/55 [==============================] - 0s 3ms/step - loss: 0.5869 - accuracy: 0.7005 - val_loss: 0.8514 - val_accuracy: 0.3818\n",
            "Epoch 33/160\n",
            "55/55 [==============================] - 0s 3ms/step - loss: 0.5856 - accuracy: 0.7189 - val_loss: 0.8019 - val_accuracy: 0.4545\n",
            "Epoch 34/160\n",
            "55/55 [==============================] - 0s 4ms/step - loss: 0.5841 - accuracy: 0.7189 - val_loss: 0.7885 - val_accuracy: 0.4545\n",
            "Epoch 35/160\n",
            "55/55 [==============================] - 0s 6ms/step - loss: 0.5792 - accuracy: 0.7143 - val_loss: 0.7981 - val_accuracy: 0.4545\n",
            "Epoch 36/160\n",
            "55/55 [==============================] - 0s 6ms/step - loss: 0.5782 - accuracy: 0.7235 - val_loss: 0.8137 - val_accuracy: 0.4545\n",
            "Epoch 37/160\n",
            "55/55 [==============================] - 0s 6ms/step - loss: 0.5763 - accuracy: 0.7189 - val_loss: 0.7898 - val_accuracy: 0.4545\n",
            "Epoch 38/160\n",
            "55/55 [==============================] - 0s 6ms/step - loss: 0.5748 - accuracy: 0.7143 - val_loss: 0.7900 - val_accuracy: 0.4545\n",
            "Epoch 39/160\n",
            "55/55 [==============================] - 0s 6ms/step - loss: 0.5752 - accuracy: 0.7143 - val_loss: 0.8072 - val_accuracy: 0.4545\n",
            "Epoch 40/160\n",
            "55/55 [==============================] - 0s 8ms/step - loss: 0.5714 - accuracy: 0.7189 - val_loss: 0.8130 - val_accuracy: 0.4545\n",
            "Epoch 41/160\n",
            "55/55 [==============================] - 0s 6ms/step - loss: 0.5690 - accuracy: 0.7189 - val_loss: 0.7854 - val_accuracy: 0.4545\n",
            "Epoch 42/160\n",
            "55/55 [==============================] - 0s 7ms/step - loss: 0.5683 - accuracy: 0.7235 - val_loss: 0.7610 - val_accuracy: 0.4545\n",
            "Epoch 43/160\n",
            "55/55 [==============================] - 0s 6ms/step - loss: 0.5667 - accuracy: 0.7235 - val_loss: 0.7992 - val_accuracy: 0.4545\n",
            "Epoch 44/160\n",
            "55/55 [==============================] - 0s 4ms/step - loss: 0.5648 - accuracy: 0.7281 - val_loss: 0.8001 - val_accuracy: 0.4545\n",
            "Epoch 45/160\n",
            "55/55 [==============================] - 0s 3ms/step - loss: 0.5646 - accuracy: 0.7189 - val_loss: 0.8269 - val_accuracy: 0.3818\n",
            "Epoch 46/160\n",
            "55/55 [==============================] - 0s 3ms/step - loss: 0.5672 - accuracy: 0.7373 - val_loss: 0.7738 - val_accuracy: 0.4545\n",
            "Epoch 47/160\n",
            "55/55 [==============================] - 0s 3ms/step - loss: 0.5641 - accuracy: 0.7281 - val_loss: 0.8246 - val_accuracy: 0.3818\n",
            "Epoch 48/160\n",
            "55/55 [==============================] - 0s 3ms/step - loss: 0.5610 - accuracy: 0.7189 - val_loss: 0.8182 - val_accuracy: 0.3818\n",
            "Epoch 49/160\n",
            "55/55 [==============================] - 0s 3ms/step - loss: 0.5613 - accuracy: 0.7143 - val_loss: 0.8240 - val_accuracy: 0.3818\n",
            "Epoch 50/160\n",
            "55/55 [==============================] - 0s 4ms/step - loss: 0.5574 - accuracy: 0.7327 - val_loss: 0.7649 - val_accuracy: 0.4909\n",
            "Epoch 51/160\n",
            "55/55 [==============================] - 0s 3ms/step - loss: 0.5607 - accuracy: 0.7281 - val_loss: 0.8461 - val_accuracy: 0.3818\n",
            "Epoch 52/160\n",
            "55/55 [==============================] - 0s 4ms/step - loss: 0.5596 - accuracy: 0.7143 - val_loss: 0.7971 - val_accuracy: 0.3818\n",
            "Epoch 53/160\n",
            "55/55 [==============================] - 0s 3ms/step - loss: 0.5566 - accuracy: 0.7373 - val_loss: 0.7289 - val_accuracy: 0.4909\n",
            "Epoch 54/160\n",
            "55/55 [==============================] - 0s 3ms/step - loss: 0.5545 - accuracy: 0.7235 - val_loss: 0.8012 - val_accuracy: 0.3818\n",
            "Epoch 55/160\n",
            "55/55 [==============================] - 0s 4ms/step - loss: 0.5538 - accuracy: 0.7235 - val_loss: 0.7836 - val_accuracy: 0.4364\n",
            "Epoch 56/160\n",
            "55/55 [==============================] - 0s 4ms/step - loss: 0.5520 - accuracy: 0.7235 - val_loss: 0.7605 - val_accuracy: 0.4364\n",
            "Epoch 57/160\n",
            "55/55 [==============================] - 0s 3ms/step - loss: 0.5508 - accuracy: 0.7281 - val_loss: 0.7485 - val_accuracy: 0.4909\n",
            "Epoch 58/160\n",
            "55/55 [==============================] - 0s 3ms/step - loss: 0.5520 - accuracy: 0.7327 - val_loss: 0.7628 - val_accuracy: 0.4364\n",
            "Epoch 59/160\n",
            "55/55 [==============================] - 0s 3ms/step - loss: 0.5492 - accuracy: 0.7281 - val_loss: 0.8217 - val_accuracy: 0.3636\n",
            "Epoch 60/160\n",
            "55/55 [==============================] - 0s 3ms/step - loss: 0.5517 - accuracy: 0.7373 - val_loss: 0.7775 - val_accuracy: 0.4182\n",
            "Epoch 61/160\n",
            "55/55 [==============================] - 0s 4ms/step - loss: 0.5469 - accuracy: 0.7235 - val_loss: 0.7927 - val_accuracy: 0.4364\n",
            "Epoch 62/160\n",
            "55/55 [==============================] - 0s 3ms/step - loss: 0.5478 - accuracy: 0.7281 - val_loss: 0.7709 - val_accuracy: 0.4364\n",
            "Epoch 63/160\n",
            "55/55 [==============================] - 0s 3ms/step - loss: 0.5445 - accuracy: 0.7327 - val_loss: 0.7685 - val_accuracy: 0.4909\n",
            "Epoch 64/160\n",
            "55/55 [==============================] - 0s 3ms/step - loss: 0.5461 - accuracy: 0.7373 - val_loss: 0.7578 - val_accuracy: 0.4364\n",
            "Epoch 65/160\n",
            "55/55 [==============================] - 0s 3ms/step - loss: 0.5444 - accuracy: 0.7373 - val_loss: 0.7241 - val_accuracy: 0.4909\n",
            "Epoch 66/160\n",
            "55/55 [==============================] - 0s 3ms/step - loss: 0.5423 - accuracy: 0.7373 - val_loss: 0.7960 - val_accuracy: 0.4000\n",
            "Epoch 67/160\n",
            "55/55 [==============================] - 0s 3ms/step - loss: 0.5420 - accuracy: 0.7419 - val_loss: 0.7823 - val_accuracy: 0.4364\n",
            "Epoch 68/160\n",
            "55/55 [==============================] - 0s 3ms/step - loss: 0.5419 - accuracy: 0.7327 - val_loss: 0.7982 - val_accuracy: 0.4182\n",
            "Epoch 69/160\n",
            "55/55 [==============================] - 0s 3ms/step - loss: 0.5373 - accuracy: 0.7419 - val_loss: 0.7927 - val_accuracy: 0.4000\n",
            "Epoch 70/160\n",
            "55/55 [==============================] - 0s 4ms/step - loss: 0.5408 - accuracy: 0.7327 - val_loss: 0.7675 - val_accuracy: 0.4364\n",
            "Epoch 71/160\n",
            "55/55 [==============================] - 0s 3ms/step - loss: 0.5379 - accuracy: 0.7373 - val_loss: 0.7576 - val_accuracy: 0.4364\n",
            "Epoch 72/160\n",
            "55/55 [==============================] - 0s 3ms/step - loss: 0.5398 - accuracy: 0.7419 - val_loss: 0.7200 - val_accuracy: 0.4364\n",
            "Epoch 73/160\n",
            "55/55 [==============================] - 0s 3ms/step - loss: 0.5369 - accuracy: 0.7327 - val_loss: 0.7643 - val_accuracy: 0.4182\n",
            "Epoch 74/160\n",
            "55/55 [==============================] - 0s 3ms/step - loss: 0.5352 - accuracy: 0.7373 - val_loss: 0.7594 - val_accuracy: 0.4364\n",
            "Epoch 75/160\n",
            "55/55 [==============================] - 0s 3ms/step - loss: 0.5396 - accuracy: 0.7419 - val_loss: 0.7514 - val_accuracy: 0.4182\n",
            "Epoch 76/160\n",
            "55/55 [==============================] - 0s 4ms/step - loss: 0.5324 - accuracy: 0.7512 - val_loss: 0.7161 - val_accuracy: 0.4364\n",
            "Epoch 77/160\n",
            "55/55 [==============================] - 0s 3ms/step - loss: 0.5339 - accuracy: 0.7419 - val_loss: 0.7944 - val_accuracy: 0.4000\n",
            "Epoch 78/160\n",
            "55/55 [==============================] - 0s 3ms/step - loss: 0.5322 - accuracy: 0.7465 - val_loss: 0.7422 - val_accuracy: 0.4364\n",
            "Epoch 79/160\n",
            "55/55 [==============================] - 0s 3ms/step - loss: 0.5305 - accuracy: 0.7465 - val_loss: 0.7726 - val_accuracy: 0.4000\n",
            "Epoch 80/160\n",
            "55/55 [==============================] - 0s 4ms/step - loss: 0.5299 - accuracy: 0.7512 - val_loss: 0.7247 - val_accuracy: 0.4727\n",
            "Epoch 81/160\n",
            "55/55 [==============================] - 0s 3ms/step - loss: 0.5283 - accuracy: 0.7419 - val_loss: 0.7652 - val_accuracy: 0.4182\n",
            "Epoch 82/160\n",
            "55/55 [==============================] - 0s 3ms/step - loss: 0.5275 - accuracy: 0.7465 - val_loss: 0.7596 - val_accuracy: 0.4182\n",
            "Epoch 83/160\n",
            "55/55 [==============================] - 0s 4ms/step - loss: 0.5281 - accuracy: 0.7512 - val_loss: 0.7691 - val_accuracy: 0.4364\n",
            "Epoch 84/160\n",
            "55/55 [==============================] - 0s 3ms/step - loss: 0.5265 - accuracy: 0.7558 - val_loss: 0.7203 - val_accuracy: 0.5273\n",
            "Epoch 85/160\n",
            "55/55 [==============================] - 0s 4ms/step - loss: 0.5254 - accuracy: 0.7419 - val_loss: 0.7600 - val_accuracy: 0.4182\n",
            "Epoch 86/160\n",
            "55/55 [==============================] - 0s 3ms/step - loss: 0.5242 - accuracy: 0.7465 - val_loss: 0.7701 - val_accuracy: 0.4182\n",
            "Epoch 87/160\n",
            "55/55 [==============================] - 0s 3ms/step - loss: 0.5266 - accuracy: 0.7419 - val_loss: 0.7933 - val_accuracy: 0.4000\n",
            "Epoch 88/160\n",
            "55/55 [==============================] - 0s 3ms/step - loss: 0.5243 - accuracy: 0.7465 - val_loss: 0.7724 - val_accuracy: 0.4182\n",
            "Epoch 89/160\n",
            "55/55 [==============================] - 0s 3ms/step - loss: 0.5211 - accuracy: 0.7558 - val_loss: 0.7124 - val_accuracy: 0.5273\n",
            "Epoch 90/160\n",
            "55/55 [==============================] - 0s 3ms/step - loss: 0.5240 - accuracy: 0.7558 - val_loss: 0.7635 - val_accuracy: 0.4182\n",
            "Epoch 91/160\n",
            "55/55 [==============================] - 0s 3ms/step - loss: 0.5206 - accuracy: 0.7512 - val_loss: 0.7329 - val_accuracy: 0.4545\n",
            "Epoch 92/160\n",
            "55/55 [==============================] - 0s 4ms/step - loss: 0.5218 - accuracy: 0.7512 - val_loss: 0.7039 - val_accuracy: 0.4727\n",
            "Epoch 93/160\n",
            "55/55 [==============================] - 0s 3ms/step - loss: 0.5260 - accuracy: 0.7465 - val_loss: 0.6875 - val_accuracy: 0.5455\n",
            "Epoch 94/160\n",
            "55/55 [==============================] - 0s 3ms/step - loss: 0.5218 - accuracy: 0.7465 - val_loss: 0.7345 - val_accuracy: 0.4545\n",
            "Epoch 95/160\n",
            "55/55 [==============================] - 0s 4ms/step - loss: 0.5163 - accuracy: 0.7558 - val_loss: 0.7305 - val_accuracy: 0.4727\n",
            "Epoch 96/160\n",
            "55/55 [==============================] - 0s 3ms/step - loss: 0.5157 - accuracy: 0.7558 - val_loss: 0.6828 - val_accuracy: 0.5273\n",
            "Epoch 97/160\n",
            "55/55 [==============================] - 0s 3ms/step - loss: 0.5148 - accuracy: 0.7558 - val_loss: 0.7439 - val_accuracy: 0.4545\n",
            "Epoch 98/160\n",
            "55/55 [==============================] - 0s 3ms/step - loss: 0.5165 - accuracy: 0.7604 - val_loss: 0.7358 - val_accuracy: 0.4182\n",
            "Epoch 99/160\n",
            "55/55 [==============================] - 0s 3ms/step - loss: 0.5157 - accuracy: 0.7465 - val_loss: 0.7236 - val_accuracy: 0.4727\n",
            "Epoch 100/160\n",
            "55/55 [==============================] - 0s 3ms/step - loss: 0.5137 - accuracy: 0.7650 - val_loss: 0.7556 - val_accuracy: 0.4182\n",
            "Epoch 101/160\n",
            "55/55 [==============================] - 0s 4ms/step - loss: 0.5140 - accuracy: 0.7558 - val_loss: 0.6987 - val_accuracy: 0.5273\n",
            "Epoch 102/160\n",
            "55/55 [==============================] - 0s 4ms/step - loss: 0.5167 - accuracy: 0.7558 - val_loss: 0.7318 - val_accuracy: 0.4545\n",
            "Epoch 103/160\n",
            "55/55 [==============================] - 0s 3ms/step - loss: 0.5155 - accuracy: 0.7558 - val_loss: 0.7331 - val_accuracy: 0.4545\n",
            "Epoch 104/160\n",
            "55/55 [==============================] - 0s 3ms/step - loss: 0.5125 - accuracy: 0.7604 - val_loss: 0.7414 - val_accuracy: 0.4545\n",
            "Epoch 105/160\n",
            "55/55 [==============================] - 0s 3ms/step - loss: 0.5110 - accuracy: 0.7604 - val_loss: 0.7658 - val_accuracy: 0.4545\n",
            "Epoch 106/160\n",
            "55/55 [==============================] - 0s 3ms/step - loss: 0.5123 - accuracy: 0.7373 - val_loss: 0.7299 - val_accuracy: 0.4545\n",
            "Epoch 107/160\n",
            "55/55 [==============================] - 0s 3ms/step - loss: 0.5096 - accuracy: 0.7604 - val_loss: 0.7492 - val_accuracy: 0.4545\n",
            "Epoch 108/160\n",
            "55/55 [==============================] - 0s 4ms/step - loss: 0.5136 - accuracy: 0.7696 - val_loss: 0.7493 - val_accuracy: 0.4545\n",
            "Epoch 109/160\n",
            "55/55 [==============================] - 0s 4ms/step - loss: 0.5072 - accuracy: 0.7650 - val_loss: 0.7114 - val_accuracy: 0.5273\n",
            "Epoch 110/160\n",
            "55/55 [==============================] - 0s 3ms/step - loss: 0.5093 - accuracy: 0.7558 - val_loss: 0.7081 - val_accuracy: 0.4909\n",
            "Epoch 111/160\n",
            "55/55 [==============================] - 0s 4ms/step - loss: 0.5082 - accuracy: 0.7558 - val_loss: 0.6624 - val_accuracy: 0.5636\n",
            "Epoch 112/160\n",
            "55/55 [==============================] - 0s 4ms/step - loss: 0.5137 - accuracy: 0.7512 - val_loss: 0.6901 - val_accuracy: 0.5636\n",
            "Epoch 113/160\n",
            "55/55 [==============================] - 0s 3ms/step - loss: 0.5078 - accuracy: 0.7604 - val_loss: 0.6926 - val_accuracy: 0.5091\n",
            "Epoch 114/160\n",
            "55/55 [==============================] - 0s 3ms/step - loss: 0.5073 - accuracy: 0.7650 - val_loss: 0.7508 - val_accuracy: 0.4364\n",
            "Epoch 115/160\n",
            "55/55 [==============================] - 0s 3ms/step - loss: 0.5093 - accuracy: 0.7604 - val_loss: 0.7165 - val_accuracy: 0.4545\n",
            "Epoch 116/160\n",
            "55/55 [==============================] - 0s 4ms/step - loss: 0.5052 - accuracy: 0.7604 - val_loss: 0.7655 - val_accuracy: 0.4364\n",
            "Epoch 117/160\n",
            "55/55 [==============================] - 0s 3ms/step - loss: 0.5031 - accuracy: 0.7604 - val_loss: 0.7039 - val_accuracy: 0.4909\n",
            "Epoch 118/160\n",
            "55/55 [==============================] - 0s 3ms/step - loss: 0.5047 - accuracy: 0.7558 - val_loss: 0.7082 - val_accuracy: 0.4909\n",
            "Epoch 119/160\n",
            "55/55 [==============================] - 0s 4ms/step - loss: 0.5071 - accuracy: 0.7604 - val_loss: 0.7108 - val_accuracy: 0.4909\n",
            "Epoch 120/160\n",
            "55/55 [==============================] - 0s 4ms/step - loss: 0.5034 - accuracy: 0.7650 - val_loss: 0.7313 - val_accuracy: 0.4545\n",
            "Epoch 121/160\n",
            "55/55 [==============================] - 0s 3ms/step - loss: 0.5032 - accuracy: 0.7650 - val_loss: 0.7559 - val_accuracy: 0.4182\n",
            "Epoch 122/160\n",
            "55/55 [==============================] - 0s 3ms/step - loss: 0.5082 - accuracy: 0.7604 - val_loss: 0.6547 - val_accuracy: 0.5636\n",
            "Epoch 123/160\n",
            "55/55 [==============================] - 0s 3ms/step - loss: 0.5059 - accuracy: 0.7604 - val_loss: 0.6919 - val_accuracy: 0.5091\n",
            "Epoch 124/160\n",
            "55/55 [==============================] - 0s 3ms/step - loss: 0.5030 - accuracy: 0.7650 - val_loss: 0.7327 - val_accuracy: 0.4545\n",
            "Epoch 125/160\n",
            "55/55 [==============================] - 0s 4ms/step - loss: 0.5012 - accuracy: 0.7650 - val_loss: 0.6695 - val_accuracy: 0.5636\n",
            "Epoch 126/160\n",
            "55/55 [==============================] - 0s 3ms/step - loss: 0.4993 - accuracy: 0.7742 - val_loss: 0.7356 - val_accuracy: 0.4545\n",
            "Epoch 127/160\n",
            "55/55 [==============================] - 0s 4ms/step - loss: 0.5007 - accuracy: 0.7696 - val_loss: 0.6993 - val_accuracy: 0.5455\n",
            "Epoch 128/160\n",
            "55/55 [==============================] - 0s 3ms/step - loss: 0.4976 - accuracy: 0.7650 - val_loss: 0.6773 - val_accuracy: 0.5636\n",
            "Epoch 129/160\n",
            "55/55 [==============================] - 0s 3ms/step - loss: 0.5002 - accuracy: 0.7604 - val_loss: 0.6826 - val_accuracy: 0.5636\n",
            "Epoch 130/160\n",
            "55/55 [==============================] - 0s 3ms/step - loss: 0.4975 - accuracy: 0.7742 - val_loss: 0.7417 - val_accuracy: 0.4545\n",
            "Epoch 131/160\n",
            "55/55 [==============================] - 0s 4ms/step - loss: 0.5027 - accuracy: 0.7558 - val_loss: 0.8005 - val_accuracy: 0.3818\n",
            "Epoch 132/160\n",
            "55/55 [==============================] - 0s 3ms/step - loss: 0.5046 - accuracy: 0.7558 - val_loss: 0.7225 - val_accuracy: 0.4909\n",
            "Epoch 133/160\n",
            "55/55 [==============================] - 0s 4ms/step - loss: 0.5040 - accuracy: 0.7696 - val_loss: 0.6645 - val_accuracy: 0.5636\n",
            "Epoch 134/160\n",
            "55/55 [==============================] - 0s 4ms/step - loss: 0.4996 - accuracy: 0.7650 - val_loss: 0.6886 - val_accuracy: 0.5455\n",
            "Epoch 135/160\n",
            "55/55 [==============================] - 0s 3ms/step - loss: 0.4943 - accuracy: 0.7696 - val_loss: 0.7365 - val_accuracy: 0.4727\n",
            "Epoch 136/160\n",
            "55/55 [==============================] - 0s 3ms/step - loss: 0.4990 - accuracy: 0.7604 - val_loss: 0.6746 - val_accuracy: 0.5636\n",
            "Epoch 137/160\n",
            "55/55 [==============================] - 0s 4ms/step - loss: 0.4952 - accuracy: 0.7650 - val_loss: 0.6498 - val_accuracy: 0.5636\n",
            "Epoch 138/160\n",
            "55/55 [==============================] - 0s 4ms/step - loss: 0.4917 - accuracy: 0.7696 - val_loss: 0.7391 - val_accuracy: 0.4727\n",
            "Epoch 139/160\n",
            "55/55 [==============================] - 0s 4ms/step - loss: 0.4972 - accuracy: 0.7558 - val_loss: 0.7310 - val_accuracy: 0.4727\n",
            "Epoch 140/160\n",
            "55/55 [==============================] - 0s 3ms/step - loss: 0.4933 - accuracy: 0.7696 - val_loss: 0.6866 - val_accuracy: 0.5455\n",
            "Epoch 141/160\n",
            "55/55 [==============================] - 0s 4ms/step - loss: 0.4912 - accuracy: 0.7742 - val_loss: 0.6742 - val_accuracy: 0.5636\n",
            "Epoch 142/160\n",
            "55/55 [==============================] - 0s 4ms/step - loss: 0.4937 - accuracy: 0.7650 - val_loss: 0.6337 - val_accuracy: 0.5636\n",
            "Epoch 143/160\n",
            "55/55 [==============================] - 0s 4ms/step - loss: 0.4952 - accuracy: 0.7604 - val_loss: 0.6378 - val_accuracy: 0.5636\n",
            "Epoch 144/160\n",
            "55/55 [==============================] - 0s 3ms/step - loss: 0.4914 - accuracy: 0.7696 - val_loss: 0.7071 - val_accuracy: 0.4909\n",
            "Epoch 145/160\n",
            "55/55 [==============================] - 0s 3ms/step - loss: 0.4929 - accuracy: 0.7742 - val_loss: 0.6756 - val_accuracy: 0.5455\n",
            "Epoch 146/160\n",
            "55/55 [==============================] - 0s 3ms/step - loss: 0.4926 - accuracy: 0.7604 - val_loss: 0.6532 - val_accuracy: 0.5636\n",
            "Epoch 147/160\n",
            "55/55 [==============================] - 0s 3ms/step - loss: 0.4954 - accuracy: 0.7604 - val_loss: 0.6493 - val_accuracy: 0.5636\n",
            "Epoch 148/160\n",
            "55/55 [==============================] - 0s 3ms/step - loss: 0.4911 - accuracy: 0.7742 - val_loss: 0.6567 - val_accuracy: 0.5455\n",
            "Epoch 149/160\n",
            "55/55 [==============================] - 0s 3ms/step - loss: 0.4918 - accuracy: 0.7742 - val_loss: 0.6673 - val_accuracy: 0.5455\n",
            "Epoch 150/160\n",
            "55/55 [==============================] - 0s 3ms/step - loss: 0.4929 - accuracy: 0.7788 - val_loss: 0.6597 - val_accuracy: 0.5636\n",
            "Epoch 151/160\n",
            "55/55 [==============================] - 0s 3ms/step - loss: 0.4916 - accuracy: 0.7696 - val_loss: 0.7420 - val_accuracy: 0.4545\n",
            "Epoch 152/160\n",
            "55/55 [==============================] - 0s 3ms/step - loss: 0.4952 - accuracy: 0.7696 - val_loss: 0.6392 - val_accuracy: 0.5636\n",
            "Epoch 153/160\n",
            "55/55 [==============================] - 0s 3ms/step - loss: 0.4879 - accuracy: 0.7742 - val_loss: 0.7101 - val_accuracy: 0.4909\n",
            "Epoch 154/160\n",
            "55/55 [==============================] - 0s 4ms/step - loss: 0.4909 - accuracy: 0.7696 - val_loss: 0.6600 - val_accuracy: 0.5636\n",
            "Epoch 155/160\n",
            "55/55 [==============================] - 0s 4ms/step - loss: 0.4879 - accuracy: 0.7742 - val_loss: 0.6688 - val_accuracy: 0.5636\n",
            "Epoch 156/160\n",
            "55/55 [==============================] - 0s 3ms/step - loss: 0.4903 - accuracy: 0.7650 - val_loss: 0.6744 - val_accuracy: 0.5455\n",
            "Epoch 157/160\n",
            "55/55 [==============================] - 0s 3ms/step - loss: 0.4882 - accuracy: 0.7696 - val_loss: 0.6607 - val_accuracy: 0.5455\n",
            "Epoch 158/160\n",
            "55/55 [==============================] - 0s 3ms/step - loss: 0.4876 - accuracy: 0.7696 - val_loss: 0.6685 - val_accuracy: 0.5636\n",
            "Epoch 159/160\n",
            "55/55 [==============================] - 0s 3ms/step - loss: 0.4908 - accuracy: 0.7696 - val_loss: 0.6728 - val_accuracy: 0.5455\n",
            "Epoch 160/160\n",
            "55/55 [==============================] - 0s 3ms/step - loss: 0.4878 - accuracy: 0.7788 - val_loss: 0.6574 - val_accuracy: 0.5636\n"
          ]
        }
      ]
    },
    {
      "cell_type": "code",
      "source": [
        "accuracy = history.history['accuracy']\n",
        "validation_accuracy = history.history['val_accuracy']\n",
        "plt.plot(accuracy, label='Training Set Accuracy')\n",
        "plt.plot(validation_accuracy, label='Validation Set Accuracy')\n",
        "plt.ylabel('Accuracy')\n",
        "plt.ylim([min(plt.ylim()),1])\n",
        "plt.title('Training and Validation Accuracy Across Epochs')\n",
        "plt.legend()"
      ],
      "metadata": {
        "colab": {
          "base_uri": "https://localhost:8080/",
          "height": 298
        },
        "id": "0onsPkEvoWgB",
        "outputId": "37572d5b-fe51-43af-ccd2-7e4a00eead14"
      },
      "execution_count": null,
      "outputs": [
        {
          "output_type": "execute_result",
          "data": {
            "text/plain": [
              "<matplotlib.legend.Legend at 0x7f9920358070>"
            ]
          },
          "metadata": {},
          "execution_count": 56
        },
        {
          "output_type": "display_data",
          "data": {
            "text/plain": [
              "<Figure size 432x288 with 1 Axes>"
            ],
            "image/png": "[encoded data removed]"
          },
          "metadata": {
            "needs_background": "light"
          }
        }
      ]
    },
    {
      "cell_type": "code",
      "source": [
        "loss = history.history['loss']\n",
        "validation_loss = history.history['val_loss']\n",
        "plt.plot(loss, label='Training Set Loss')\n",
        "plt.plot(validation_loss, label='Validation Set Loss')\n",
        "plt.ylabel('Loss')\n",
        "plt.title('Training and Validation Accuracy Across Epochs')\n",
        "plt.legend()"
      ],
      "metadata": {
        "colab": {
          "base_uri": "https://localhost:8080/",
          "height": 298
        },
        "id": "P18C7suZq2Pw",
        "outputId": "b8e3d98d-b8bd-406f-ff65-66a552ad3a4b"
      },
      "execution_count": null,
      "outputs": [
        {
          "output_type": "execute_result",
          "data": {
            "text/plain": [
              "<matplotlib.legend.Legend at 0x7f99203100a0>"
            ]
          },
          "metadata": {},
          "execution_count": 57
        },
        {
          "output_type": "display_data",
          "data": {
            "text/plain": [
              "<Figure size 432x288 with 1 Axes>"
            ],
            "image/png": "[encoded data removed]"
          },
          "metadata": {
            "needs_background": "light"
          }
        }
      ]
    },
    {
      "cell_type": "code",
      "source": [
        "y_pred = model_for_ann.predict(X_test)\n",
        "y_pred = y_pred.argmax(axis=1)\n"
      ],
      "metadata": {
        "colab": {
          "base_uri": "https://localhost:8080/"
        },
        "id": "1WHc4pAnrWcP",
        "outputId": "cdab2131-9408-495f-bf2e-da03b7b62add"
      },
      "execution_count": null,
      "outputs": [
        {
          "output_type": "stream",
          "name": "stdout",
          "text": [
            "3/3 [==============================] - 0s 3ms/step\n"
          ]
        }
      ]
    },
    {
      "cell_type": "code",
      "source": [
        "print(classification_report(y_test,y_pred))"
      ],
      "metadata": {
        "colab": {
          "base_uri": "https://localhost:8080/"
        },
        "id": "t0kLAzd_roXp",
        "outputId": "d6440e08-ceaf-4077-dade-5ef9ae5b6cb4"
      },
      "execution_count": null,
      "outputs": [
        {
          "output_type": "stream",
          "name": "stdout",
          "text": [
            "              precision    recall  f1-score   support\n",
            "\n",
            "           0       0.75      0.93      0.83        59\n",
            "           1       0.64      0.28      0.39        25\n",
            "\n",
            "    accuracy                           0.74        84\n",
            "   macro avg       0.69      0.61      0.61        84\n",
            "weighted avg       0.72      0.74      0.70        84\n",
            "\n"
          ]
        }
      ]
    }
  ],
  "metadata": {
    "colab": {
      "provenance": []
    },
    "kernelspec": {
      "display_name": "Python 3",
      "name": "python3"
    },
    "language_info": {
      "name": "python"
    },
    "accelerator": "GPU",
    "gpuClass": "standard"
  },
  "nbformat": 4,
  "nbformat_minor": 0
}